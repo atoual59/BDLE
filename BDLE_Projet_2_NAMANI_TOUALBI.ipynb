{
  "nbformat": 4,
  "nbformat_minor": 0,
  "metadata": {
    "colab": {
      "name": "Copy of BDLE Projet 2 Final.ipynb",
      "provenance": [],
      "collapsed_sections": [],
      "toc_visible": true,
      "machine_shape": "hm"
    },
    "kernelspec": {
      "name": "python3",
      "display_name": "Python 3"
    },
    "language_info": {
      "name": "python"
    },
    "accelerator": "GPU"
  },
  "cells": [
    {
      "cell_type": "markdown",
      "metadata": {
        "id": "N0oU_HCOXYWX"
      },
      "source": [
        "# Préparation de l'environement"
      ]
    },
    {
      "cell_type": "code",
      "metadata": {
        "colab": {
          "base_uri": "https://localhost:8080/"
        },
        "id": "AQexca9VXRlc",
        "outputId": "3673154d-beb0-453c-c185-d74685b575d1"
      },
      "source": [
        "import os\n",
        "from google.colab import drive\n",
        "drive.mount(\"/content/drive\", force_remount=True)\n",
        "\n",
        "drive_dir = \"/content/drive/MyDrive/BDLE/\"\n",
        "os.makedirs(drive_dir, exist_ok=True)\n",
        "os.listdir(drive_dir)"
      ],
      "execution_count": 1,
      "outputs": [
        {
          "output_type": "stream",
          "name": "stdout",
          "text": [
            "Mounted at /content/drive\n"
          ]
        },
        {
          "output_type": "execute_result",
          "data": {
            "text/plain": [
              "['housing.csv']"
            ]
          },
          "metadata": {},
          "execution_count": 1
        }
      ]
    },
    {
      "cell_type": "code",
      "metadata": {
        "id": "0msEje32XbRY",
        "colab": {
          "base_uri": "https://localhost:8080/"
        },
        "outputId": "fdea8949-88f0-4aec-87d6-d01764c228bc"
      },
      "source": [
        "!pip install -q pyspark\n",
        "!pip install -q findspark"
      ],
      "execution_count": 2,
      "outputs": [
        {
          "output_type": "stream",
          "name": "stdout",
          "text": [
            "\u001b[K     |████████████████████████████████| 281.3 MB 42 kB/s \n",
            "\u001b[K     |████████████████████████████████| 198 kB 46.5 MB/s \n",
            "\u001b[?25h  Building wheel for pyspark (setup.py) ... \u001b[?25l\u001b[?25hdone\n"
          ]
        }
      ]
    },
    {
      "cell_type": "code",
      "metadata": {
        "id": "jSNx0aeAXl64"
      },
      "source": [
        "import os\n",
        "# !find /usr/local -name \"pyspark\"\n",
        "os.environ[\"SPARK_HOME\"] = \"/usr/local/lib/python3.7/dist-packages/pyspark\"\n",
        "os.environ[\"JAVA_HOME\"] = \"/usr\""
      ],
      "execution_count": 3,
      "outputs": []
    },
    {
      "cell_type": "code",
      "metadata": {
        "colab": {
          "base_uri": "https://localhost:8080/"
        },
        "id": "JfLQAeQ8XnZx",
        "outputId": "b8e1dd3b-89a1-4241-bedf-29d9aaa7558b"
      },
      "source": [
        "# Principaux import\n",
        "import findspark\n",
        "from pyspark.sql import SparkSession \n",
        "from pyspark import SparkConf  \n",
        "\n",
        "# pour les dataframe et udf\n",
        "from pyspark.sql import *  \n",
        "from pyspark.sql.functions import *\n",
        "from pyspark.sql.types import *\n",
        "from datetime import *\n",
        "\n",
        "# pour le chronomètre\n",
        "import time\n",
        "\n",
        "# initialise les variables d'environnement pour spark\n",
        "findspark.init()\n",
        "\n",
        "# Démarrage session spark \n",
        "# --------------------------\n",
        "def demarrer_spark():\n",
        "  local = \"local[*]\"\n",
        "  appName = \"TP\"\n",
        "  configLocale = SparkConf().setAppName(appName).setMaster(local).\\\n",
        "  set(\"spark.executor.memory\", \"6G\").\\\n",
        "  set(\"spark.driver.memory\",\"6G\").\\\n",
        "  set(\"spark.sql.catalogImplementation\",\"in-memory\")\n",
        "  \n",
        "  spark = SparkSession.builder.config(conf = configLocale).getOrCreate()\n",
        "  sc = spark.sparkContext\n",
        "  sc.setLogLevel(\"ERROR\")\n",
        "  \n",
        "  spark.conf.set(\"spark.sql.autoBroadcastJoinThreshold\",\"-1\")\n",
        "\n",
        "  # On ajuste l'environnement d'exécution des requêtes à la taille du cluster (4 coeurs)\n",
        "  spark.conf.set(\"spark.sql.shuffle.partitions\",\"4\")    \n",
        "  print(\"session démarrée, son id est \", sc.applicationId)\n",
        "  return spark\n",
        "spark = demarrer_spark()"
      ],
      "execution_count": 4,
      "outputs": [
        {
          "output_type": "stream",
          "name": "stdout",
          "text": [
            "session démarrée, son id est  local-1637528284936\n"
          ]
        }
      ]
    },
    {
      "cell_type": "code",
      "metadata": {
        "colab": {
          "base_uri": "https://localhost:8080/"
        },
        "id": "Oj1rMMP3Xs4l",
        "outputId": "e5843cc4-1882-4aa8-efa4-da6196c0ea25"
      },
      "source": [
        "# on utilise 8 partitions au lieu de 200 par défaut\n",
        "spark.conf.set(\"spark.sql.shuffle.partitions\", \"8\")\n",
        "print(\"Nombre de partitions utilisées : \", spark.conf.get(\"spark.sql.shuffle.partitions\"))"
      ],
      "execution_count": 5,
      "outputs": [
        {
          "output_type": "stream",
          "name": "stdout",
          "text": [
            "Nombre de partitions utilisées :  8\n"
          ]
        }
      ]
    },
    {
      "cell_type": "markdown",
      "metadata": {
        "id": "4if8huYJYM_X"
      },
      "source": [
        "# Préparation des données"
      ]
    },
    {
      "cell_type": "markdown",
      "metadata": {
        "id": "lqVfkiSGY6mv"
      },
      "source": [
        "## Chargement des données"
      ]
    },
    {
      "cell_type": "code",
      "metadata": {
        "colab": {
          "base_uri": "https://localhost:8080/"
        },
        "id": "Svn4CZz6X5X2",
        "outputId": "35400ac3-694c-4d96-fc66-8ba500ed31f4"
      },
      "source": [
        "houses =  spark.read\\\n",
        "            .format(\"csv\").option(\"header\", \"true\")\\\n",
        "            .option(\"inferSchema\", \"true\")\\\n",
        "            .load(drive_dir +\"housing.csv\")\n",
        "houses.printSchema()"
      ],
      "execution_count": 6,
      "outputs": [
        {
          "output_type": "stream",
          "name": "stdout",
          "text": [
            "root\n",
            " |-- id: string (nullable = true)\n",
            " |-- url: string (nullable = true)\n",
            " |-- region: string (nullable = true)\n",
            " |-- region_url: string (nullable = true)\n",
            " |-- price: string (nullable = true)\n",
            " |-- type: string (nullable = true)\n",
            " |-- sqfeet: string (nullable = true)\n",
            " |-- beds: string (nullable = true)\n",
            " |-- baths: string (nullable = true)\n",
            " |-- cats_allowed: string (nullable = true)\n",
            " |-- dogs_allowed: string (nullable = true)\n",
            " |-- smoking_allowed: string (nullable = true)\n",
            " |-- wheelchair_access: string (nullable = true)\n",
            " |-- electric_vehicle_charge: integer (nullable = true)\n",
            " |-- comes_furnished: string (nullable = true)\n",
            " |-- laundry_options: string (nullable = true)\n",
            " |-- parking_options: string (nullable = true)\n",
            " |-- image_url: string (nullable = true)\n",
            " |-- description: string (nullable = true)\n",
            " |-- lat: string (nullable = true)\n",
            " |-- long: string (nullable = true)\n",
            " |-- state: string (nullable = true)\n",
            "\n"
          ]
        }
      ]
    },
    {
      "cell_type": "code",
      "metadata": {
        "colab": {
          "base_uri": "https://localhost:8080/"
        },
        "id": "mlD-iTbqYCyu",
        "outputId": "69e86c37-0114-461b-ec55-c08a33e9b7ba"
      },
      "source": [
        "houses.show()"
      ],
      "execution_count": null,
      "outputs": [
        {
          "output_type": "stream",
          "name": "stdout",
          "text": [
            "+----------+--------------------+------------+--------------------+-----+---------+------+----+-----+------------+------------+---------------+-----------------+-----------------------+---------------+---------------+------------------+--------------------+--------------------+-------+--------+-----+\n",
            "|        id|                 url|      region|          region_url|price|     type|sqfeet|beds|baths|cats_allowed|dogs_allowed|smoking_allowed|wheelchair_access|electric_vehicle_charge|comes_furnished|laundry_options|   parking_options|           image_url|         description|    lat|    long|state|\n",
            "+----------+--------------------+------------+--------------------+-----+---------+------+----+-----+------------+------------+---------------+-----------------+-----------------------+---------------+---------------+------------------+--------------------+--------------------+-------+--------+-----+\n",
            "|7049044568|https://reno.crai...|reno / tahoe|https://reno.crai...| 1148|apartment|  1078|   3|    2|           1|           1|              0|                0|                      0|              0|    w/d in unit|           carport|https://images.cr...|Ridgeview by Vint...|39.5483|-119.796|   ca|\n",
            "|7049047186|https://reno.crai...|reno / tahoe|https://reno.crai...| 1200|    condo|  1001|   2|    2|           0|           0|              0|                0|                      0|              0|    w/d hookups|           carport|https://images.cr...|Conveniently loca...|39.5026|-119.789|   ca|\n",
            "|7043634882|https://reno.crai...|reno / tahoe|https://reno.crai...| 1813|apartment|  1683|   2|    2|           1|           1|              1|                0|                      0|              0|    w/d in unit|   attached garage|https://images.cr...|2BD | 2BA | 1683S...|39.6269|-119.708|   ca|\n",
            "|7049045324|https://reno.crai...|reno / tahoe|https://reno.crai...| 1095|apartment|   708|   1|    1|           1|           1|              1|                0|                      0|              0|    w/d in unit|           carport|https://images.cr...|MOVE IN SPECIAL F...|39.4477|-119.771|   ca|\n",
            "|7049043759|https://reno.crai...|reno / tahoe|https://reno.crai...|  289|apartment|   250|   0|    1|           1|           1|              1|                1|                      0|              1|laundry on site|              null|https://images.cr...|Move In Today: Re...|39.5357|-119.805|   ca|\n",
            "|7046327064|https://reno.crai...|reno / tahoe|https://reno.crai...| 1093|apartment|   720|   1|    1|           1|           1|              1|                0|                      0|              0|laundry in bldg|              null|https://images.cr...|1BD | 1BA | 720SQ...|39.4572|-119.776|   ca|\n",
            "|7049020738|https://reno.crai...|reno / tahoe|https://reno.crai...|  935|apartment|   661|   1|    1|           1|           1|              1|                0|                      0|              0|laundry on site|off-street parking|https://images.cr...|Tucked away in a ...|39.5118|-119.802|   ca|\n",
            "|7049041899|https://reno.crai...|reno / tahoe|https://reno.crai...| 1095|apartment|   708|   1|    1|           1|           1|              1|                0|                      0|              0|    w/d in unit|           carport|https://images.cr...|MOVE IN SPECIAL F...|39.4477|-119.771|   ca|\n",
            "|7049041451|https://reno.crai...|reno / tahoe|https://reno.crai...| 1525|apartment|  1053|   2|    2|           1|           1|              0|                0|                      0|              0|    w/d in unit|           carport|https://images.cr...|BRAND NEW APARTME...|39.6185|-119.672|   ca|\n",
            "|7049041434|https://reno.crai...|reno / tahoe|https://reno.crai...| 1295|    condo|   930|   2|    2|           0|           0|              0|                0|                      0|              0|    w/d in unit|           carport|https://images.cr...|6850 Sharlands Av...|39.5193|-119.897|   ca|\n",
            "|7049040060|https://reno.crai...|reno / tahoe|https://reno.crai...| 1086|apartment|   720|   1|    1|           0|           0|              1|                0|                      0|              0|           null|              null|https://images.cr...|In addition to at...|39.4572|-119.776|   ca|\n",
            "|7049039558|https://reno.crai...|reno / tahoe|https://reno.crai...| 2195|    house|  3115|   4|    3|           0|           0|              0|                0|                      0|              0|    w/d hookups|   attached garage|https://images.cr...|2741 Albazano Dri...|39.5987|-119.693|   ca|\n",
            "|7049038099|https://reno.crai...|reno / tahoe|https://reno.crai...| 1159|apartment|  1181|   3|    2|           1|           1|              1|                0|                      0|              0|    w/d in unit|           carport|https://images.cr...|Welcome Home to Z...|39.5384|-119.863|   ca|\n",
            "|7047575862|https://reno.crai...|reno / tahoe|https://reno.crai...| 1349|apartment|   766|   1|    1|           1|           1|              0|                0|                      0|              0|    w/d in unit|              null|https://images.cr...|Style, substance,...|39.5393| -119.75|   ca|\n",
            "|7049031207|https://reno.crai...|reno / tahoe|https://reno.crai...| 1449|apartment|   764|   1|    1|           1|           1|              1|                0|                      0|              0|    w/d in unit|off-street parking|https://images.cr...|Pre-leasing for 2...|39.5502|-119.718|   ca|\n",
            "|7049037378|https://reno.crai...|reno / tahoe|https://reno.crai...| 1295|apartment|   951|   2|    2|           0|           0|              0|                0|                      0|              0|    w/d in unit|off-street parking|https://images.cr...|200 Talus Way #22...|39.5617|-119.828|   ca|\n",
            "|7049031994|https://reno.crai...|reno / tahoe|https://reno.crai...|  982|apartment|   919|   2|    2|           1|           1|              0|                0|                      0|              0|    w/d in unit|           carport|https://images.cr...|Ridgeview by Vint...|39.5483|-119.796|   ca|\n",
            "|7049036811|https://reno.crai...|reno / tahoe|https://reno.crai...| 1895|apartment|  1193|   2|    2|           1|           1|              0|                0|                      0|              0|    w/d in unit|   attached garage|https://images.cr...|Inova14001 SUMMIT...|39.4015|-119.755|   ca|\n",
            "|7049034720|https://reno.crai...|reno / tahoe|https://reno.crai...| 1495|   duplex|  1192|   3|    1|           1|           1|              0|                0|                      0|              0|    w/d hookups|   detached garage|https://images.cr...|12001 Andes Stree...|39.6369| -119.88|   ca|\n",
            "|7047407034|https://reno.crai...|reno / tahoe|https://reno.crai...| 1899|    house|  1600|   3|    2|           0|           0|              0|                0|                      0|              0|    w/d in unit|   attached garage|https://images.cr...|3 YEAR NEW EXECUT...|39.5614|-119.695|   ca|\n",
            "+----------+--------------------+------------+--------------------+-----+---------+------+----+-----+------------+------------+---------------+-----------------+-----------------------+---------------+---------------+------------------+--------------------+--------------------+-------+--------+-----+\n",
            "only showing top 20 rows\n",
            "\n"
          ]
        }
      ]
    },
    {
      "cell_type": "markdown",
      "metadata": {
        "id": "TbRyuSPk_eEs"
      },
      "source": [
        "## Nettoyage des données"
      ]
    },
    {
      "cell_type": "markdown",
      "metadata": {
        "id": "imZzhkxI_j7Z"
      },
      "source": [
        "### Colonne \"State\"\n",
        "On sait qu'il y a 50 states aux usa, mais cependant:"
      ]
    },
    {
      "cell_type": "code",
      "metadata": {
        "id": "b8K2fR_2_ujl",
        "colab": {
          "base_uri": "https://localhost:8080/"
        },
        "outputId": "da1db71a-40a2-48a8-bc35-aa214d9d3a94"
      },
      "source": [
        "print(\"Nombre de states dans le dataset:\\n\")\n",
        "houses.groupBy('state').agg(count('*').alias('count')).orderBy(desc('count')).count()"
      ],
      "execution_count": null,
      "outputs": [
        {
          "output_type": "stream",
          "name": "stdout",
          "text": [
            "Nombre de states dans le dataset:\n",
            "\n"
          ]
        },
        {
          "output_type": "execute_result",
          "data": {
            "text/plain": [
              "4442"
            ]
          },
          "metadata": {},
          "execution_count": 8
        }
      ]
    },
    {
      "cell_type": "markdown",
      "metadata": {
        "id": "5Zuc4cE0_5wp"
      },
      "source": [
        "Lorsque on trie les states par nombre de maisons, on remarques que les 50 premiers sont les vrais, alors que le reste est dû à des erreurs lors de la collection des données:"
      ]
    },
    {
      "cell_type": "code",
      "metadata": {
        "colab": {
          "base_uri": "https://localhost:8080/"
        },
        "id": "SByjVEO5ALx9",
        "outputId": "6b3b5d4c-4920-4077-ee0e-41945b6f29ef"
      },
      "source": [
        "print(\"Nombre maisons par state:\\n\")\n",
        "houses.groupBy('state').agg(count('*').alias('count')).orderBy(desc('count')).show(60)"
      ],
      "execution_count": null,
      "outputs": [
        {
          "output_type": "stream",
          "name": "stdout",
          "text": [
            "Nombre maisons par state:\n",
            "\n",
            "+--------------------+-----+\n",
            "|               state|count|\n",
            "+--------------------+-----+\n",
            "|                  ca|31984|\n",
            "|                  fl|31025|\n",
            "|                  tx|30151|\n",
            "|                  nc|17601|\n",
            "|                  mi|13866|\n",
            "|                  ga|13334|\n",
            "|                  oh|12567|\n",
            "|                  tn|11172|\n",
            "|                  co|10951|\n",
            "|                  va|10573|\n",
            "|                  ny| 9739|\n",
            "|                  sc| 9666|\n",
            "|                  il| 9277|\n",
            "|                  pa| 9252|\n",
            "|                  al| 7799|\n",
            "|                  ks| 7770|\n",
            "|                  or| 7718|\n",
            "|                  mn| 7339|\n",
            "|                  ia| 7327|\n",
            "|                  la| 6966|\n",
            "|                  md| 6897|\n",
            "|                  wa| 6731|\n",
            "|                  wi| 6346|\n",
            "|                  az| 6340|\n",
            "|                  in| 6253|\n",
            "|                  ok| 5582|\n",
            "|                  nj| 5536|\n",
            "|                  ut| 5101|\n",
            "|                  ky| 4955|\n",
            "|                  ms| 4871|\n",
            "|                  ma| 4843|\n",
            "|                  id| 4329|\n",
            "|                  ct| 3682|\n",
            "|                  nd| 3375|\n",
            "|                  ar| 3109|\n",
            "|                  nm| 2832|\n",
            "|                  nv| 2733|\n",
            "|                  ne| 2603|\n",
            "|                  dc| 2410|\n",
            "|                  mo| 2119|\n",
            "|                  ak| 2085|\n",
            "|                  de| 2032|\n",
            "|                  ri| 1879|\n",
            "|                  hi| 1751|\n",
            "|                  sd| 1727|\n",
            "|                  nh| 1472|\n",
            "|                  mt| 1321|\n",
            "|                  wv|  811|\n",
            "|                  vt|  508|\n",
            "|                  me|  410|\n",
            "| regardless of br...|  244|\n",
            "|              38.953|  240|\n",
            "|              36.092|  230|\n",
            "|            -86.4199|  229|\n",
            "|            9 months|  190|\n",
            "|         Picnic Area|  185|\n",
            "|                  wy|  181|\n",
            "| available year-r...|  151|\n",
            "|             40.2628|  141|\n",
            "|            -80.3224|  126|\n",
            "+--------------------+-----+\n",
            "only showing top 60 rows\n",
            "\n"
          ]
        }
      ]
    },
    {
      "cell_type": "markdown",
      "metadata": {
        "id": "WeqATMU1AUiU"
      },
      "source": [
        "On va remplacer toutes les valeurs qui ne sont pas de vrai states par des nulls:"
      ]
    },
    {
      "cell_type": "code",
      "metadata": {
        "colab": {
          "base_uri": "https://localhost:8080/"
        },
        "id": "_S_ie76EARvI",
        "outputId": "cc357578-eaf5-4b53-f9c4-646cf00a586d"
      },
      "source": [
        "states_count = houses.groupBy('state').agg(count('*').alias('states_count')).withColumnRenamed('state', '_state')\n",
        "houses_states_count = houses.join(states_count, houses.state == states_count._state)\n",
        "windowSpec  = Window.orderBy(desc(\"states_count\"))\n",
        "houses_states_count = houses_states_count.withColumn(\"dense_rank_states_count\",dense_rank().over(windowSpec))\n",
        "houses_cleaned_1 = houses_states_count.withColumn('state', \\\n",
        "                when(houses_states_count.dense_rank_states_count > 50, regexp_replace(houses_states_count.state,'*',None)).otherwise(houses_states_count.state))\\\n",
        "                .drop('_state').drop('states_count').drop('dense_rank_states_count')\n",
        "houses_cleaned_1.show(10)"
      ],
      "execution_count": 7,
      "outputs": [
        {
          "output_type": "stream",
          "name": "stdout",
          "text": [
            "+----------+--------------------+------------+--------------------+-----+---------+------+----+-----+------------+------------+---------------+-----------------+-----------------------+---------------+---------------+------------------+--------------------+--------------------+-------+--------+-----+\n",
            "|        id|                 url|      region|          region_url|price|     type|sqfeet|beds|baths|cats_allowed|dogs_allowed|smoking_allowed|wheelchair_access|electric_vehicle_charge|comes_furnished|laundry_options|   parking_options|           image_url|         description|    lat|    long|state|\n",
            "+----------+--------------------+------------+--------------------+-----+---------+------+----+-----+------------+------------+---------------+-----------------+-----------------------+---------------+---------------+------------------+--------------------+--------------------+-------+--------+-----+\n",
            "|7049044568|https://reno.crai...|reno / tahoe|https://reno.crai...| 1148|apartment|  1078|   3|    2|           1|           1|              0|                0|                      0|              0|    w/d in unit|           carport|https://images.cr...|Ridgeview by Vint...|39.5483|-119.796|   ca|\n",
            "|7049041434|https://reno.crai...|reno / tahoe|https://reno.crai...| 1295|    condo|   930|   2|    2|           0|           0|              0|                0|                      0|              0|    w/d in unit|           carport|https://images.cr...|6850 Sharlands Av...|39.5193|-119.897|   ca|\n",
            "|7049040060|https://reno.crai...|reno / tahoe|https://reno.crai...| 1086|apartment|   720|   1|    1|           0|           0|              1|                0|                      0|              0|           null|              null|https://images.cr...|In addition to at...|39.4572|-119.776|   ca|\n",
            "|7049047186|https://reno.crai...|reno / tahoe|https://reno.crai...| 1200|    condo|  1001|   2|    2|           0|           0|              0|                0|                      0|              0|    w/d hookups|           carport|https://images.cr...|Conveniently loca...|39.5026|-119.789|   ca|\n",
            "|7043634882|https://reno.crai...|reno / tahoe|https://reno.crai...| 1813|apartment|  1683|   2|    2|           1|           1|              1|                0|                      0|              0|    w/d in unit|   attached garage|https://images.cr...|2BD | 2BA | 1683S...|39.6269|-119.708|   ca|\n",
            "|7049045324|https://reno.crai...|reno / tahoe|https://reno.crai...| 1095|apartment|   708|   1|    1|           1|           1|              1|                0|                      0|              0|    w/d in unit|           carport|https://images.cr...|MOVE IN SPECIAL F...|39.4477|-119.771|   ca|\n",
            "|7049043759|https://reno.crai...|reno / tahoe|https://reno.crai...|  289|apartment|   250|   0|    1|           1|           1|              1|                1|                      0|              1|laundry on site|              null|https://images.cr...|Move In Today: Re...|39.5357|-119.805|   ca|\n",
            "|7046327064|https://reno.crai...|reno / tahoe|https://reno.crai...| 1093|apartment|   720|   1|    1|           1|           1|              1|                0|                      0|              0|laundry in bldg|              null|https://images.cr...|1BD | 1BA | 720SQ...|39.4572|-119.776|   ca|\n",
            "|7049020738|https://reno.crai...|reno / tahoe|https://reno.crai...|  935|apartment|   661|   1|    1|           1|           1|              1|                0|                      0|              0|laundry on site|off-street parking|https://images.cr...|Tucked away in a ...|39.5118|-119.802|   ca|\n",
            "|7049041899|https://reno.crai...|reno / tahoe|https://reno.crai...| 1095|apartment|   708|   1|    1|           1|           1|              1|                0|                      0|              0|    w/d in unit|           carport|https://images.cr...|MOVE IN SPECIAL F...|39.4477|-119.771|   ca|\n",
            "+----------+--------------------+------------+--------------------+-----+---------+------+----+-----+------------+------------+---------------+-----------------+-----------------------+---------------+---------------+------------------+--------------------+--------------------+-------+--------+-----+\n",
            "only showing top 10 rows\n",
            "\n"
          ]
        }
      ]
    },
    {
      "cell_type": "code",
      "metadata": {
        "colab": {
          "base_uri": "https://localhost:8080/"
        },
        "id": "hHiwf7osFcR8",
        "outputId": "63625db4-fc6e-4948-de2a-2bf952693557"
      },
      "source": [
        "print(\"Nombre de states dans le dataset:\\n\")\n",
        "houses_cleaned_1.groupBy('state').agg(count('*').alias('count')).orderBy(desc('count')).count()"
      ],
      "execution_count": null,
      "outputs": [
        {
          "output_type": "stream",
          "name": "stdout",
          "text": [
            "Nombre de states dans le dataset:\n",
            "\n"
          ]
        },
        {
          "output_type": "execute_result",
          "data": {
            "text/plain": [
              "51"
            ]
          },
          "metadata": {},
          "execution_count": 10
        }
      ]
    },
    {
      "cell_type": "markdown",
      "metadata": {
        "id": "NMCslrr3FkUM"
      },
      "source": [
        "Le 1 en plus c'est pour les maisons avec une valeur de state \"null\""
      ]
    },
    {
      "cell_type": "markdown",
      "metadata": {
        "id": "z8kmp7gpFu-G"
      },
      "source": [
        "### Colonnes avec valeurs numériques"
      ]
    },
    {
      "cell_type": "markdown",
      "metadata": {
        "id": "JjEWHF4-HIor"
      },
      "source": [
        "*   On va caster les colonnes avec des valeurs numériques vers le type float\n",
        "*   On ne va pas caster \"long\" et \"lat\" parceque on va les enlever dans ce qui suit, vu qu'on va pas les utiliser pour notre prédiction.\n",
        "\n",
        "\n"
      ]
    },
    {
      "cell_type": "code",
      "metadata": {
        "colab": {
          "base_uri": "https://localhost:8080/"
        },
        "id": "lHvvR4spF0UZ",
        "outputId": "a784a9fe-1069-4a8d-dcff-35a1bc0f5e88"
      },
      "source": [
        "numerical_features = ['beds','baths','comes_furnished', 'price',\n",
        "                      'sqfeet','cats_allowed','dogs_allowed','smoking_allowed',\n",
        "                      'wheelchair_access','electric_vehicle_charge']\n",
        "houses_cleaned_2 = houses_cleaned_1\n",
        "for col_name in numerical_features:\n",
        "    houses_cleaned_2 = houses_cleaned_2.withColumn(col_name, col(col_name).cast('float'))\n",
        "houses_cleaned_2.show(10)"
      ],
      "execution_count": 8,
      "outputs": [
        {
          "output_type": "stream",
          "name": "stdout",
          "text": [
            "+----------+--------------------+------------+--------------------+------+---------+------+----+-----+------------+------------+---------------+-----------------+-----------------------+---------------+---------------+------------------+--------------------+--------------------+-------+--------+-----+\n",
            "|        id|                 url|      region|          region_url| price|     type|sqfeet|beds|baths|cats_allowed|dogs_allowed|smoking_allowed|wheelchair_access|electric_vehicle_charge|comes_furnished|laundry_options|   parking_options|           image_url|         description|    lat|    long|state|\n",
            "+----------+--------------------+------------+--------------------+------+---------+------+----+-----+------------+------------+---------------+-----------------+-----------------------+---------------+---------------+------------------+--------------------+--------------------+-------+--------+-----+\n",
            "|7049044568|https://reno.crai...|reno / tahoe|https://reno.crai...|1148.0|apartment|1078.0| 3.0|  2.0|         1.0|         1.0|            0.0|              0.0|                    0.0|            0.0|    w/d in unit|           carport|https://images.cr...|Ridgeview by Vint...|39.5483|-119.796|   ca|\n",
            "|7049041434|https://reno.crai...|reno / tahoe|https://reno.crai...|1295.0|    condo| 930.0| 2.0|  2.0|         0.0|         0.0|            0.0|              0.0|                    0.0|            0.0|    w/d in unit|           carport|https://images.cr...|6850 Sharlands Av...|39.5193|-119.897|   ca|\n",
            "|7049040060|https://reno.crai...|reno / tahoe|https://reno.crai...|1086.0|apartment| 720.0| 1.0|  1.0|         0.0|         0.0|            1.0|              0.0|                    0.0|            0.0|           null|              null|https://images.cr...|In addition to at...|39.4572|-119.776|   ca|\n",
            "|7049047186|https://reno.crai...|reno / tahoe|https://reno.crai...|1200.0|    condo|1001.0| 2.0|  2.0|         0.0|         0.0|            0.0|              0.0|                    0.0|            0.0|    w/d hookups|           carport|https://images.cr...|Conveniently loca...|39.5026|-119.789|   ca|\n",
            "|7043634882|https://reno.crai...|reno / tahoe|https://reno.crai...|1813.0|apartment|1683.0| 2.0|  2.0|         1.0|         1.0|            1.0|              0.0|                    0.0|            0.0|    w/d in unit|   attached garage|https://images.cr...|2BD | 2BA | 1683S...|39.6269|-119.708|   ca|\n",
            "|7049045324|https://reno.crai...|reno / tahoe|https://reno.crai...|1095.0|apartment| 708.0| 1.0|  1.0|         1.0|         1.0|            1.0|              0.0|                    0.0|            0.0|    w/d in unit|           carport|https://images.cr...|MOVE IN SPECIAL F...|39.4477|-119.771|   ca|\n",
            "|7049043759|https://reno.crai...|reno / tahoe|https://reno.crai...| 289.0|apartment| 250.0| 0.0|  1.0|         1.0|         1.0|            1.0|              1.0|                    0.0|            1.0|laundry on site|              null|https://images.cr...|Move In Today: Re...|39.5357|-119.805|   ca|\n",
            "|7046327064|https://reno.crai...|reno / tahoe|https://reno.crai...|1093.0|apartment| 720.0| 1.0|  1.0|         1.0|         1.0|            1.0|              0.0|                    0.0|            0.0|laundry in bldg|              null|https://images.cr...|1BD | 1BA | 720SQ...|39.4572|-119.776|   ca|\n",
            "|7049020738|https://reno.crai...|reno / tahoe|https://reno.crai...| 935.0|apartment| 661.0| 1.0|  1.0|         1.0|         1.0|            1.0|              0.0|                    0.0|            0.0|laundry on site|off-street parking|https://images.cr...|Tucked away in a ...|39.5118|-119.802|   ca|\n",
            "|7049041899|https://reno.crai...|reno / tahoe|https://reno.crai...|1095.0|apartment| 708.0| 1.0|  1.0|         1.0|         1.0|            1.0|              0.0|                    0.0|            0.0|    w/d in unit|           carport|https://images.cr...|MOVE IN SPECIAL F...|39.4477|-119.771|   ca|\n",
            "+----------+--------------------+------------+--------------------+------+---------+------+----+-----+------------+------------+---------------+-----------------+-----------------------+---------------+---------------+------------------+--------------------+--------------------+-------+--------+-----+\n",
            "only showing top 10 rows\n",
            "\n"
          ]
        }
      ]
    },
    {
      "cell_type": "markdown",
      "metadata": {
        "id": "BdaAlvM0I-DO"
      },
      "source": [
        "### Colonne \"Price\""
      ]
    },
    {
      "cell_type": "markdown",
      "metadata": {
        "id": "a8Ic11v-Kj9Z"
      },
      "source": [
        "On commence par éliminer les maisons avec un prix de loyer mensuel de moins de 10$, ils sont trop présents dans la datasets et on est sur que c'est dû à cause des erreurs lors de la collection des données ou bien que c'est des fausses annonces. "
      ]
    },
    {
      "cell_type": "code",
      "metadata": {
        "id": "HiATaM0JJN0e"
      },
      "source": [
        "houses_cleaned_3 = houses_cleaned_2.select('*').where('price > 10')"
      ],
      "execution_count": 9,
      "outputs": []
    },
    {
      "cell_type": "markdown",
      "metadata": {
        "id": "-ZNN-jBKN71D"
      },
      "source": [
        "En explorant les valeurs de la colonne \"Price\", on remarque qu'elle est pleine de outliers qu'on doit nétoyer. On donne quelques exemples"
      ]
    },
    {
      "cell_type": "code",
      "metadata": {
        "colab": {
          "base_uri": "https://localhost:8080/"
        },
        "id": "wBGMRfW0OtK9",
        "outputId": "54f69060-0eca-4732-872b-181311950bb4"
      },
      "source": [
        "print(\"Nombre total de maisons avec un prix de loyer mensuel moins de 100$: \", houses_cleaned_3.where('price < 100').count())\n",
        "print(\"Nombre total de maisons avec un prix de loyer mensuel plus de 100,000$: \", houses_cleaned_3.where ('price > 100000').count())"
      ],
      "execution_count": null,
      "outputs": [
        {
          "output_type": "stream",
          "name": "stdout",
          "text": [
            "Nombre total de maisons avec un prix de loyer mensuel moins de 100$:  142\n",
            "Nombre total de maisons avec un prix de loyer mensuel plus de 100,000$:  94\n"
          ]
        }
      ]
    },
    {
      "cell_type": "markdown",
      "metadata": {
        "id": "dPNWar-HTbbb"
      },
      "source": [
        "On remarque que parfois le prix est multiplié par 1000 ou même 10,000 parfois par erreur, comme dans l'annonce suivante. La description dit que le prix \"Starting  at: \\$854.00\\-\\$874.00\" alors que l'attribut prix a 859864.0$ comme prix"
      ]
    },
    {
      "cell_type": "code",
      "metadata": {
        "colab": {
          "base_uri": "https://localhost:8080/"
        },
        "id": "9Ii8vr7CTXde",
        "outputId": "1cfdf94a-cbca-43ca-c1d7-eafac25f79f5"
      },
      "source": [
        "houses_cleaned_3.orderBy(desc('price')).collect()[15]['description'], houses_cleaned_3.orderBy(desc('price')).collect()[15]['price']"
      ],
      "execution_count": null,
      "outputs": [
        {
          "output_type": "execute_result",
          "data": {
            "text/plain": [
              "('A/62 Apartments \\t 2Bedroom (2x1) (802sqft) Starting at: $854.00-$874.00 Application Fee: $35.00 Security Deposit: $400.00  â\\x80¢\\tBrush Nickel Accent* â\\x80¢\\tExpansive Walk-In Closet in all apartments! â\\x80¢\\tSplit Floor Plan â\\x80¢\\tUpgraded White Kitchen Cabinets* â\\x80¢\\tBedroom Window Seats* â\\x80¢\\tMicrowave included in appliance package â\\x80¢\\t6-panel doors â\\x80¢\\tUSB port inside unit â\\x80¢\\tUpdated ceiling fan â\\x80¢\\tUpdated bathroom hardware â\\x80¢\\tNew Black Appliances   Our two bedroom/one bathroom apartment home has a master suite that offers space, space and more space along with a huge walk-in closet that will knock your socks off. There is a great gourmet style eat-in kitchen with all appliances included.  Your new kitchen will also provide a generous amount of cabinet space for your family needs.  http://www.a62apts.com Phone:  show contact info    A/62 Apartments 6111 Allisonville Rd. Indianapolis, IN 46220  Office Hours Mon-Fri.-9:00am-6:00pm Sat. 10:00am-5:00pm',\n",
              " 859864.0)"
            ]
          },
          "metadata": {},
          "execution_count": 13
        }
      ]
    },
    {
      "cell_type": "markdown",
      "metadata": {
        "id": "BeOB0pdfVDLX"
      },
      "source": [
        "Et dans celle-ci, où le prix est multiplié par 10,000 (Dans la description c'est \\$755.00 - \\$800.00):"
      ]
    },
    {
      "cell_type": "code",
      "metadata": {
        "id": "huo8PUpBUO0Z"
      },
      "source": [
        "tmp = houses_cleaned_3.orderBy(desc('price')).collect()"
      ],
      "execution_count": null,
      "outputs": []
    },
    {
      "cell_type": "code",
      "metadata": {
        "colab": {
          "base_uri": "https://localhost:8080/"
        },
        "id": "Lp5_f1YfUS19",
        "outputId": "ff64c643-6622-42b5-cdce-2e3c58bd8e11"
      },
      "source": [
        "tmp[10]['description'], tmp[10]['price']"
      ],
      "execution_count": null,
      "outputs": [
        {
          "output_type": "execute_result",
          "data": {
            "text/plain": [
              "(\"Palatka Oaks Apartments\\t                        Property Address\\t                        \\t                          200 College Road                              Palatka, FL, 32177\\t                        \\t\\t\\t\\t\\t\\thttp://palatkaoaks.prospectportal.com/su/f7gvpz\\t\\t\\t\\t\\t    Palatka Oaks Apartments gives you everything you need to live easy.  We offer single story living, private patios, ample parking, individual private entrances, on-site manager, maintenance free living and so much more! You'll enjoy a premier location convenient to shopping, banking, and St. John's River State College. With a variety of floor plans to choose from, we're certain there is one that's just right for you. This one bedroom unit offers new floors, cabinets appliances and fixtures! Available NOW!  Apply online or call  show contact info  now for more details.Now introducing our Preferred Employer Program! Employees of Putnam County School District, Georgia Pacific, Seminole Electric, and St. Johns River Water Management will receive their Application Fee fully refunded and $100 off their Security Deposit AFTER move in!\\t\\t\\t\\t\\t\\t    Floor Plan Details\\t\\t\\t\\t\\t\\t    \\t\\t\\t\\t\\t\\t\\t\\t\\tName: The Heartwood\\t\\t\\t\\t\\t\\t             1 Bedrooms / 1 Bathrooms\\t\\t\\t\\t\\t\\t\\t\\t\\t600 Sq. Ft.\\t\\t\\t\\t\\t\\t\\t\\t\\t$755.00 - $800.00\\t\\t\\t\\t\\t\\t\\t\\t\\t\\t\\t\\t\\t\\t\\t  Community Amenities\\t\\t\\t\\t\\t\\t\\t\\t\\t\\t\\t\\t\\t\\t\\t\\t\\t Heat and Air Conditioning\\t\\t\\t\\t\\t\\t\\t\\t\\t Single-Story Private Entrance Units\\t\\t\\t\\t\\t\\t\\t\\t\\t Abundant Parking\\t\\t\\t\\t\\t\\t\\t\\t\\t 24 Hr Emergency On-Site Maintenance\\t\\t\\t\\t\\t\\t\\t\\t\\t On Site Professional Management\\t\\t\\t\\t\\t\\t\\t\\t\\t Pet Friendly  breed restrictions apply\\t\\t\\t\\t\\t\\t\\t\\t\\t On Site Laundry Facilities\\t\\t\\t\\t\\t\\t\\t\\t\\t Accepts Electronic Payment\\t\\t\\t\\t\\t\\t\\t\\t\\t Superb location with close proximity to St. Johns River State College\\t\\t\\t\\t\\t\\t\\t\\t\\t\\t\\t\\t\\t\\t\\t\\tProperty Contact\\t\\t\\t\\t\\t\\t\\t\\t \\t\\t\\t\\t\\t\\t\\t\\t\\t show contact info \\t\\t\\t\\t\\t\\t\\t\\t\\t\\t\\t\\t\\t\\t\\t\\t\\t\\t\\t\\t\\t\\t\\tADA ACCESSIBLE\\t\\t\\t\\t\\t\\t\\t\\t\\t\\t\\t\\t\\t\\t\\t\\t\\t\\t\\t\\t\\t\\tEQUAL HOUSING OPPORTUNITY\",\n",
              " 7655765.0)"
            ]
          },
          "metadata": {},
          "execution_count": 48
        }
      ]
    },
    {
      "cell_type": "markdown",
      "metadata": {
        "id": "0OWQ8bhqUWI0"
      },
      "source": [
        "On va éliminer les maisons avec un prix de loyer mensuel supérieur à 100,000$:"
      ]
    },
    {
      "cell_type": "code",
      "metadata": {
        "id": "wZjgEid5Xt_z"
      },
      "source": [
        "houses_cleaned_4 = houses_cleaned_3\n",
        "houses_cleaned_4 = houses_cleaned_4.select('*').where('price < 100000')"
      ],
      "execution_count": 10,
      "outputs": []
    },
    {
      "cell_type": "code",
      "metadata": {
        "colab": {
          "base_uri": "https://localhost:8080/"
        },
        "id": "2BSchaG6USKp",
        "outputId": "f25d3326-6592-45e7-e857-6fd64c0b14f8"
      },
      "source": [
        "houses_cleaned_4.orderBy(desc('price')).show()"
      ],
      "execution_count": null,
      "outputs": [
        {
          "output_type": "stream",
          "name": "stdout",
          "text": [
            "+----------+--------------------+------------+--------------------+-------+------------+------+----+-----+------------+------------+---------------+-----------------+-----------------------+---------------+---------------+------------------+--------------------+--------------------+-------+--------+-----+\n",
            "|        id|                 url|      region|          region_url|  price|        type|sqfeet|beds|baths|cats_allowed|dogs_allowed|smoking_allowed|wheelchair_access|electric_vehicle_charge|comes_furnished|laundry_options|   parking_options|           image_url|         description|    lat|    long|state|\n",
            "+----------+--------------------+------------+--------------------+-------+------------+------+----+-----+------------+------------+---------------+-----------------+-----------------------+---------------+---------------+------------------+--------------------+--------------------+-------+--------+-----+\n",
            "|7039036774|https://sacrament...|  sacramento|https://sacrament...|95834.0|   apartment|1060.0| 2.0|  2.0|         0.0|         0.0|            1.0|              0.0|                    0.0|            0.0|           null|              null|https://images.cr...|Located in the he...| 38.656|-121.512|   ca|\n",
            "|7031677363|https://oregoncoa...|oregon coast|https://oregoncoa...|95000.0|   townhouse|1788.0| 3.0|  3.5|         0.0|         0.0|            0.0|              0.0|                    0.0|            1.0|    w/d in unit|   attached garage|https://images.cr...|$95,000 Depoe Bay...|44.8322| -124.05|   or|\n",
            "|7043695788|https://losangele...| los angeles|https://losangele...|90292.0|   apartment| 995.0| 1.0|  0.0|         1.0|         1.0|            1.0|              0.0|                    0.0|            0.0|    w/d in unit|           carport|https://images.cr...|Esprit - Los Ange...|33.9762|-118.454|   ca|\n",
            "|7037287848|https://roanoke.c...|     roanoke|https://roanoke.c...|89900.0|       house|1736.0| 3.0|  1.5|         0.0|         0.0|            1.0|              0.0|                    0.0|            0.0|    w/d in unit|           carport|https://images.cr...|This spacious hom...|37.2856|-79.9718|   va|\n",
            "|7050954738|https://pittsburg...|  pittsburgh|https://pittsburg...|80500.0|   apartment| 684.0| 2.0|  1.0|         1.0|         1.0|            1.0|              0.0|                    0.0|            0.0|laundry on site|off-street parking|https://images.cr...|The Alden South H...|40.3407|-79.9809|   pa|\n",
            "|7049709517|https://denver.cr...|      denver|https://denver.cr...|80124.0|   apartment| 975.0| 1.0|  1.0|         1.0|         1.0|            1.0|              0.0|                    0.0|            0.0|           null|              null|https://images.cr...|Our Lone Tree apa...|39.5517|-104.886|   co|\n",
            "|7020585032|https://palmsprin...|palm springs|https://palmsprin...|78995.0|manufactured| 880.0| 2.0|  2.0|         0.0|         0.0|            1.0|              0.0|                    0.0|            0.0|    w/d hookups|           carport|https://images.cr...|This home for Lea...|33.7916|-116.479|   ca|\n",
            "|7048297903|https://kalamazoo...|   kalamazoo|https://kalamazoo...|78900.0|manufactured|1456.0| 3.0|  2.0|         1.0|         1.0|            1.0|              0.0|                    0.0|            0.0|    w/d hookups|off-street parking|https://images.cr...|This beautiful ho...|42.2809|-85.6863|   mi|\n",
            "|7045125481|https://chattanoo...| chattanooga|https://chattanoo...|78500.0|manufactured|1568.0| 3.0|  2.0|         1.0|         1.0|            1.0|              0.0|                    0.0|            0.0|    w/d hookups|off-street parking|https://images.cr...|This beautiful NE...|35.0781|-85.0635|   tn|\n",
            "|7043563008|https://chattanoo...| chattanooga|https://chattanoo...|78500.0|manufactured|1568.0| 3.0|  2.0|         1.0|         1.0|            1.0|              0.0|                    0.0|            0.0|    w/d hookups|off-street parking|https://images.cr...|Beautiful Mobile ...|35.0781|-85.0635|   tn|\n",
            "|7045121912|https://chattanoo...| chattanooga|https://chattanoo...|78500.0|manufactured|1568.0| 3.0|  2.0|         1.0|         1.0|            1.0|              0.0|                    0.0|            0.0|    w/d hookups|off-street parking|https://images.cr...|This beautiful NE...|35.0781|-85.0635|   tn|\n",
            "|7040660763|https://chattanoo...| chattanooga|https://chattanoo...|78500.0|manufactured|1568.0| 3.0|  2.0|         1.0|         1.0|            1.0|              0.0|                    0.0|            0.0|    w/d hookups|off-street parking|https://images.cr...|Beautiful spaciou...|35.0781|-85.0635|   tn|\n",
            "|7044679240|https://chattanoo...| chattanooga|https://chattanoo...|78500.0|manufactured|1568.0| 3.0|  2.0|         1.0|         1.0|            1.0|              0.0|                    0.0|            0.0|    w/d hookups|off-street parking|https://images.cr...|You have the oppo...|35.0781|-85.0635|   tn|\n",
            "|7044566047|https://chattanoo...| chattanooga|https://chattanoo...|78500.0|manufactured|1568.0| 3.0|  2.0|         1.0|         1.0|            1.0|              0.0|                    0.0|            0.0|    w/d hookups|off-street parking|https://images.cr...|Beautiful Double ...|35.0781|-85.0635|   tn|\n",
            "|7040670295|https://chattanoo...| chattanooga|https://chattanoo...|78500.0|manufactured|1568.0| 3.0|  2.0|         1.0|         1.0|            1.0|              0.0|                    0.0|            0.0|    w/d hookups|off-street parking|https://images.cr...|Beautiful Double ...|35.0781|-85.0635|   tn|\n",
            "|7040641522|https://chattanoo...| chattanooga|https://chattanoo...|78500.0|manufactured|1568.0| 3.0|  2.0|         1.0|         1.0|            1.0|              0.0|                    0.0|            0.0|    w/d hookups|off-street parking|https://images.cr...|This beautiful Mo...|35.0781|-85.0635|   tn|\n",
            "|7040009911|https://chattanoo...| chattanooga|https://chattanoo...|78500.0|manufactured|1568.0| 3.0|  2.0|         1.0|         1.0|            1.0|              0.0|                    0.0|            0.0|    w/d hookups|off-street parking|https://images.cr...|At Ponderosa Pine...|35.0781|-85.0635|   tn|\n",
            "|7039610769|https://chattanoo...| chattanooga|https://chattanoo...|78500.0|manufactured|1568.0| 3.0|  2.0|         1.0|         1.0|            1.0|              0.0|                    0.0|            0.0|    w/d hookups|off-street parking|https://images.cr...|You have the oppo...|35.0781|-85.0635|   tn|\n",
            "|7039616581|https://chattanoo...| chattanooga|https://chattanoo...|78500.0|manufactured|1568.0| 3.0|  2.0|         1.0|         1.0|            1.0|              0.0|                    0.0|            0.0|    w/d hookups|off-street parking|https://images.cr...|This beautiful NE...|35.0781|-85.0635|   tn|\n",
            "|7040633152|https://chattanoo...| chattanooga|https://chattanoo...|78500.0|manufactured|1568.0| 3.0|  2.0|         1.0|         1.0|            1.0|              0.0|                    0.0|            0.0|    w/d hookups|off-street parking|https://images.cr...|Beautiful Double ...|35.0781|-85.0635|   tn|\n",
            "+----------+--------------------+------------+--------------------+-------+------------+------+----+-----+------------+------------+---------------+-----------------+-----------------------+---------------+---------------+------------------+--------------------+--------------------+-------+--------+-----+\n",
            "only showing top 20 rows\n",
            "\n"
          ]
        }
      ]
    },
    {
      "cell_type": "markdown",
      "metadata": {
        "id": "iizSuU1WWHPH"
      },
      "source": [
        "On remarque aussi que le prix qu'on a n'est pas toujours le loyer mensuel de la maison, mais il s'agit parfois du prix par nuit ou bien par semain comme montre l'exemple suivant"
      ]
    },
    {
      "cell_type": "code",
      "metadata": {
        "colab": {
          "base_uri": "https://localhost:8080/"
        },
        "id": "f73K1arxWUhl",
        "outputId": "07e6af74-6463-4962-b19d-a2b2c18905eb"
      },
      "source": [
        "houses_cleaned_4.orderBy(asc('price')).collect()[90]['description'], houses_cleaned_4.orderBy(asc('price')).collect()[90]['price']"
      ],
      "execution_count": null,
      "outputs": [
        {
          "output_type": "execute_result",
          "data": {
            "text/plain": [
              "('***CALL & ASK ABOUT OUR FURNISHED UNITS. STARTING AT JUST $55 A NIGHT, COME & TOUR YOUR NEW HOME AWAY FROM HOME!!!***  Welcome to Ross Estates, where you will experience, value and commitment to customer service satisfaction as it was meant to be! Our pattern of ownership, development and management enables us to provide you with consistent, reliable and dedicated service. Ross Estates is conveniently located at Lee Boulevard and 67th Street, just minutes from Fort Sill, home to the Field Artillery School, Cameron University, Great Plains Technology Center, Comanche County Memorial Hospital, and historic downtown Lawton. Lawton is considered Comanche County center for major shopping, dining, and recreational activities. Call or stop in today or your tour!    -Unique Features â\\x80¢ Grilling Area Close To Pool   -Pet Friendly  Dogs and Cats Allowed: $350 pet registration fee. $30 monthly pet rent. 80-pound weight limit at full growth. (Breed restrictions apply, call for details.) â\\x80¢ 2 Pets per household  Services: â\\x80¢ Package Service â\\x80¢ Laundry Facilities located in every building â\\x80¢ On-site 24 hour emergency maintenance â\\x80¢ Property Manager on Site â\\x80¢ Bilingual â\\x80¢ Courtesy Patrol â\\x80¢ Furnished Units Available â\\x80¢ Renters Insurance Program â\\x80¢ Planned Social Activities â\\x80¢ Corporate Suites* -  Outdoor Space â\\x80¢ Picnic Area â\\x80¢ Barbecue Area â\\x80¢ Balcony/ Patios â\\x80¢ Pool â\\x80¢ Playground â\\x80¢ Bike Storage  -Features:  â\\x80¢ Washer/Dryer Hookup* â\\x80¢Central Heat & Air Conditioning â\\x80¢ Cable Ready   -Kitchen: â\\x80¢ Dishwasher â\\x80¢ Disposal â\\x80¢ Ice Maker â\\x80¢ Oven â\\x80¢ Range â\\x80¢ Refrigerator  -Living Space â\\x80¢ Carpet â\\x80¢ Vinyl Flooring in kitchen & bathroom area â\\x80¢ Dining Room â\\x80¢ Walk-In Closets* â\\x80¢ Linen Closet **Dining room storage space**  Office hours: Monday-Friday 8am-6pm Saturday 10am-4pm Sunday CLOSED',\n",
              " 55.0)"
            ]
          },
          "metadata": {},
          "execution_count": 18
        }
      ]
    },
    {
      "cell_type": "markdown",
      "metadata": {
        "id": "KyLmYl2DubP4"
      },
      "source": [
        "Pour les maisons avec une valeur de l'attribut prix inférieur à 300 et leur description contient l'une des propositions: \"nightly\", \"per night\", \"/night\", \"a night\" on va multiplier leurs prix par 30."
      ]
    },
    {
      "cell_type": "code",
      "metadata": {
        "id": "D62FsSkhuzd2"
      },
      "source": [
        "houses_cleaned_5 = houses_cleaned_4\n",
        "houses_cleaned_5 = houses_cleaned_5.withColumn('price', \\\n",
        "                when((lower(col('description')).contains('nightly') | lower(col('description')).contains('a night') \\\n",
        "               | lower(col('description')).contains('per night') | lower(col('description')).contains('/night')) & (houses_cleaned_5.price < 300), houses_cleaned_5.price * 30)\\\n",
        "               .otherwise(houses_cleaned_5.price))"
      ],
      "execution_count": 11,
      "outputs": []
    },
    {
      "cell_type": "markdown",
      "metadata": {
        "id": "KNMcMCZkwNQx"
      },
      "source": [
        "On a réussi à corriger la valeur de l'attribut prix pour un certain nombre de maisons qui avaient le prix par nuit au lieu du prix mensuel"
      ]
    },
    {
      "cell_type": "code",
      "metadata": {
        "colab": {
          "base_uri": "https://localhost:8080/"
        },
        "id": "-uUjVyFIvvzq",
        "outputId": "1e71e27b-64bd-48e8-9316-d91ebe3ec6b4"
      },
      "source": [
        "print(\"Nombre total de maisons avec un prix de loyer mensuel moins de 100$: \", houses_cleaned_5.where('price < 100').count())"
      ],
      "execution_count": null,
      "outputs": [
        {
          "output_type": "stream",
          "name": "stdout",
          "text": [
            "Nombre total de maisons avec un prix de loyer mensuel moins de 100$:  116\n"
          ]
        }
      ]
    },
    {
      "cell_type": "markdown",
      "metadata": {
        "id": "2_h6bT2VwhQn"
      },
      "source": [
        "Pour les maisons avec une valeur de l'attribut prix inférieur à 1000 et leur description contient l'une des propositions: \"weekly\", \"per week\", \"/week\", \"a week\" on va multiplier leurs prix par 4."
      ]
    },
    {
      "cell_type": "code",
      "metadata": {
        "id": "TJJkTek1wsed"
      },
      "source": [
        "houses_cleaned_6 = houses_cleaned_5\n",
        "houses_cleaned_6 = houses_cleaned_6.withColumn('price', \\\n",
        "                when((lower(col('description')).contains('weekly') | lower(col('description')).contains('a week') \\\n",
        "               | lower(col('description')).contains('per week') | lower(col('description')).contains('/week')) & (houses_cleaned_6.price < 1000), houses_cleaned_6.price * 4)\\\n",
        "               .otherwise(houses_cleaned_6.price))"
      ],
      "execution_count": 12,
      "outputs": []
    },
    {
      "cell_type": "markdown",
      "metadata": {
        "id": "qj8zNQRGPuMt"
      },
      "source": [
        "Pour terminer avec les outliers, on utilise la méthode du z-score pour les nétoyer, on choisit 2 comme threshold:\n",
        "On calcule d'abord la moyenne et l'écart type avant de pouvoir calculer le z-score  "
      ]
    },
    {
      "cell_type": "code",
      "metadata": {
        "id": "GgG5C0_WP_Un"
      },
      "source": [
        "stats_avg = houses_cleaned_6.select('price').agg(avg('price').alias('mean'))\n",
        "stats_std = houses_cleaned_6.select('price').agg(stddev('price').alias('std'))\n",
        "stats = houses_cleaned_6.select('*').join(stats_avg).join(stats_std)\n",
        "stats = stats.select('*', ((stats.price - stats.mean) / stats.std).alias('zscore'))"
      ],
      "execution_count": 13,
      "outputs": []
    },
    {
      "cell_type": "code",
      "metadata": {
        "colab": {
          "base_uri": "https://localhost:8080/"
        },
        "id": "Y0liHVwaW2Iv",
        "outputId": "c67af0fa-8553-4a76-e1fb-9b794776edd2"
      },
      "source": [
        "stats.orderBy(desc('zscore')).show()"
      ],
      "execution_count": null,
      "outputs": [
        {
          "output_type": "stream",
          "name": "stdout",
          "text": [
            "+----------+--------------------+------------+--------------------+-------+------------+------+----+-----+------------+------------+---------------+-----------------+-----------------------+---------------+---------------+------------------+--------------------+--------------------+-------+--------+-----+------------------+------------------+-----------------+\n",
            "|        id|                 url|      region|          region_url|  price|        type|sqfeet|beds|baths|cats_allowed|dogs_allowed|smoking_allowed|wheelchair_access|electric_vehicle_charge|comes_furnished|laundry_options|   parking_options|           image_url|         description|    lat|    long|state|              mean|               std|           zscore|\n",
            "+----------+--------------------+------------+--------------------+-------+------------+------+----+-----+------------+------------+---------------+-----------------+-----------------------+---------------+---------------+------------------+--------------------+--------------------+-------+--------+-----+------------------+------------------+-----------------+\n",
            "|7039036774|https://sacrament...|  sacramento|https://sacrament...|95834.0|   apartment|1060.0| 2.0|  2.0|         0.0|         0.0|            1.0|              0.0|                    0.0|            0.0|           null|              null|https://images.cr...|Located in the he...| 38.656|-121.512|   ca|1222.3742855052928|1109.6998563776115| 85.2587527796345|\n",
            "|7031677363|https://oregoncoa...|oregon coast|https://oregoncoa...|95000.0|   townhouse|1788.0| 3.0|  3.5|         0.0|         0.0|            0.0|              0.0|                    0.0|            1.0|    w/d in unit|   attached garage|https://images.cr...|$95,000 Depoe Bay...|44.8322| -124.05|   or|1222.3742855052928|1109.6998563776115|84.50719820818271|\n",
            "|7043695788|https://losangele...| los angeles|https://losangele...|90292.0|   apartment| 995.0| 1.0|  0.0|         1.0|         1.0|            1.0|              0.0|                    0.0|            0.0|    w/d in unit|           carport|https://images.cr...|Esprit - Los Ange...|33.9762|-118.454|   ca|1222.3742855052928|1109.6998563776115| 80.2646095722174|\n",
            "|7037287848|https://roanoke.c...|     roanoke|https://roanoke.c...|89900.0|       house|1736.0| 3.0|  1.5|         0.0|         0.0|            1.0|              0.0|                    0.0|            0.0|    w/d in unit|           carport|https://images.cr...|This spacious hom...|37.2856|-79.9718|   va|1222.3742855052928|1109.6998563776115|79.91136090074365|\n",
            "|7050954738|https://pittsburg...|  pittsburgh|https://pittsburg...|80500.0|   apartment| 684.0| 2.0|  1.0|         1.0|         1.0|            1.0|              0.0|                    0.0|            0.0|laundry on site|off-street parking|https://images.cr...|The Alden South H...|40.3407|-79.9809|   pa|1222.3742855052928|1109.6998563776115|71.44060194193439|\n",
            "|7049709517|https://denver.cr...|      denver|https://denver.cr...|80124.0|   apartment| 975.0| 1.0|  1.0|         1.0|         1.0|            1.0|              0.0|                    0.0|            0.0|           null|              null|https://images.cr...|Our Lone Tree apa...|39.5517|-104.886|   co|1222.3742855052928|1109.6998563776115|71.10177158358202|\n",
            "|7020585032|https://palmsprin...|palm springs|https://palmsprin...|78995.0|manufactured| 880.0| 2.0|  2.0|         0.0|         0.0|            1.0|              0.0|                    0.0|            0.0|    w/d hookups|           carport|https://images.cr...|This home for Lea...|33.7916|-116.479|   ca|1222.3742855052928|1109.6998563776115|70.08437936395482|\n",
            "|7048297903|https://kalamazoo...|   kalamazoo|https://kalamazoo...|78900.0|manufactured|1456.0| 3.0|  2.0|         1.0|         1.0|            1.0|              0.0|                    0.0|            0.0|    w/d hookups|off-street parking|https://images.cr...|This beautiful ho...|42.2809|-85.6863|   mi|1222.3742855052928|1109.6998563776115|69.99877062979664|\n",
            "|7044566047|https://chattanoo...| chattanooga|https://chattanoo...|78500.0|manufactured|1568.0| 3.0|  2.0|         1.0|         1.0|            1.0|              0.0|                    0.0|            0.0|    w/d hookups|off-street parking|https://images.cr...|Beautiful Double ...|35.0781|-85.0635|   tn|1222.3742855052928|1109.6998563776115|69.63831280176221|\n",
            "|7045129348|https://chattanoo...| chattanooga|https://chattanoo...|78500.0|manufactured|1568.0| 3.0|  2.0|         0.0|         0.0|            1.0|              0.0|                    0.0|            0.0|    w/d hookups|off-street parking|https://images.cr...|This beautiful NE...|35.0781|-85.0635|   tn|1222.3742855052928|1109.6998563776115|69.63831280176221|\n",
            "|7043563008|https://chattanoo...| chattanooga|https://chattanoo...|78500.0|manufactured|1568.0| 3.0|  2.0|         1.0|         1.0|            1.0|              0.0|                    0.0|            0.0|    w/d hookups|off-street parking|https://images.cr...|Beautiful Mobile ...|35.0781|-85.0635|   tn|1222.3742855052928|1109.6998563776115|69.63831280176221|\n",
            "|7040199865|https://chattanoo...| chattanooga|https://chattanoo...|78500.0|manufactured|1568.0| 3.0|  2.0|         1.0|         1.0|            1.0|              0.0|                    0.0|            0.0|    w/d hookups|off-street parking|https://images.cr...|Wonderful Mobile ...|35.0781|-85.0635|   tn|1222.3742855052928|1109.6998563776115|69.63831280176221|\n",
            "|7043545254|https://chattanoo...| chattanooga|https://chattanoo...|78500.0|manufactured|1568.0| 3.0|  2.0|         1.0|         1.0|            1.0|              0.0|                    0.0|            0.0|    w/d hookups|off-street parking|https://images.cr...|This beautiful Mo...|35.0781|-85.0635|   tn|1222.3742855052928|1109.6998563776115|69.63831280176221|\n",
            "|7043529236|https://chattanoo...| chattanooga|https://chattanoo...|78500.0|manufactured|1568.0| 3.0|  2.0|         1.0|         1.0|            1.0|              0.0|                    0.0|            0.0|    w/d hookups|off-street parking|https://images.cr...|This wonderful mo...|35.0781|-85.0635|   tn|1222.3742855052928|1109.6998563776115|69.63831280176221|\n",
            "|7045132951|https://chattanoo...| chattanooga|https://chattanoo...|78500.0|manufactured|1568.0| 3.0|  2.0|         1.0|         1.0|            1.0|              0.0|                    0.0|            0.0|    w/d hookups|off-street parking|https://images.cr...|This beautiful NE...|35.0781|-85.0635|   tn|1222.3742855052928|1109.6998563776115|69.63831280176221|\n",
            "|7039608594|https://chattanoo...| chattanooga|https://chattanoo...|78500.0|manufactured|1568.0| 3.0|  2.0|         1.0|         1.0|            1.0|              0.0|                    0.0|            0.0|    w/d hookups|off-street parking|https://images.cr...|You have the oppo...|35.0781|-85.0635|   tn|1222.3742855052928|1109.6998563776115|69.63831280176221|\n",
            "|7040170004|https://chattanoo...| chattanooga|https://chattanoo...|78500.0|manufactured|1568.0| 3.0|  2.0|         1.0|         1.0|            1.0|              0.0|                    0.0|            0.0|    w/d hookups|off-street parking|https://images.cr...|Beautiful spaciou...|35.0781|-85.0635|   tn|1222.3742855052928|1109.6998563776115|69.63831280176221|\n",
            "|7040145128|https://chattanoo...| chattanooga|https://chattanoo...|78500.0|manufactured|1568.0| 3.0|  2.0|         1.0|         1.0|            1.0|              0.0|                    0.0|            0.0|    w/d hookups|off-street parking|https://images.cr...|Beautiful Double ...|35.0781|-85.0635|   tn|1222.3742855052928|1109.6998563776115|69.63831280176221|\n",
            "|7040709910|https://chattanoo...| chattanooga|https://chattanoo...|78500.0|manufactured|1568.0| 3.0|  2.0|         1.0|         1.0|            1.0|              0.0|                    0.0|            0.0|    w/d hookups|off-street parking|https://images.cr...|Beautiful Double ...|35.0781|-85.0635|   tn|1222.3742855052928|1109.6998563776115|69.63831280176221|\n",
            "|7044679240|https://chattanoo...| chattanooga|https://chattanoo...|78500.0|manufactured|1568.0| 3.0|  2.0|         1.0|         1.0|            1.0|              0.0|                    0.0|            0.0|    w/d hookups|off-street parking|https://images.cr...|You have the oppo...|35.0781|-85.0635|   tn|1222.3742855052928|1109.6998563776115|69.63831280176221|\n",
            "+----------+--------------------+------------+--------------------+-------+------------+------+----+-----+------------+------------+---------------+-----------------+-----------------------+---------------+---------------+------------------+--------------------+--------------------+-------+--------+-----+------------------+------------------+-----------------+\n",
            "only showing top 20 rows\n",
            "\n"
          ]
        }
      ]
    },
    {
      "cell_type": "code",
      "metadata": {
        "id": "HNMu8G9CL2p5"
      },
      "source": [
        "houses_cleaned_7 = stats.select('*').where('zscore < 2 and zscore > -2')"
      ],
      "execution_count": 14,
      "outputs": []
    },
    {
      "cell_type": "markdown",
      "metadata": {
        "id": "KkVxLjMEzbQD"
      },
      "source": [
        "Comme dernière étape, on va éliminer les maisons avec un prix de loyer inferieur à 100$, vu que ce sont des prix très petits pour un loyer mensuel, et au même temps leurs description ne précisent pas si par nuit ou par semaine ou autre chose."
      ]
    },
    {
      "cell_type": "code",
      "metadata": {
        "id": "J9pkcsEKzaIV"
      },
      "source": [
        "houses_cleaned_8 = houses_cleaned_7.select('*').where('price > 100')"
      ],
      "execution_count": 15,
      "outputs": []
    },
    {
      "cell_type": "code",
      "metadata": {
        "colab": {
          "base_uri": "https://localhost:8080/"
        },
        "id": "SEBbQ4d3wG1X",
        "outputId": "a6f29a42-0691-45d0-9b06-f78e2983fc99"
      },
      "source": [
        "houses_cleaned_8.count()"
      ],
      "execution_count": null,
      "outputs": [
        {
          "output_type": "execute_result",
          "data": {
            "text/plain": [
              "378003"
            ]
          },
          "metadata": {},
          "execution_count": 78
        }
      ]
    },
    {
      "cell_type": "markdown",
      "metadata": {
        "id": "8GiyzTEqieI3"
      },
      "source": [
        "### Colonne \"Beds\", \"Baths\" and \"sqfeet\"\n",
        "On va utiliser la méthode du z-score encore une fois pour éliminer les outliers par rapports à ces attributs. "
      ]
    },
    {
      "cell_type": "code",
      "metadata": {
        "id": "amx-s1ieidEV"
      },
      "source": [
        "houses_cleaned_9 = houses_cleaned_8.drop('mean').drop('std').drop('zscore')\n",
        "stats_avg = houses_cleaned_9.select('beds').agg(avg('beds').alias('mean'))\n",
        "stats_std = houses_cleaned_9.select('beds').agg(stddev('beds').alias('std'))\n",
        "stats = houses_cleaned_9.select('*').join(stats_avg).join(stats_std)\n",
        "stats = stats.select('*', ((stats.beds - stats.mean) / stats.std).alias('zscore'))"
      ],
      "execution_count": 16,
      "outputs": []
    },
    {
      "cell_type": "markdown",
      "metadata": {
        "id": "t7jUVCtvZr5f"
      },
      "source": [
        "On peut clairement voir que les maisons avec des z-scores élevés ont un nombre illogique de lits \"beds\" (1100, 1000 ...). Ils doivent être enlevés."
      ]
    },
    {
      "cell_type": "code",
      "metadata": {
        "colab": {
          "base_uri": "https://localhost:8080/"
        },
        "id": "_kJbkFadYZXC",
        "outputId": "0f916240-5d0d-4103-ac54-1fb38574ee0c"
      },
      "source": [
        "stats.orderBy(desc('zscore')).show()"
      ],
      "execution_count": 17,
      "outputs": [
        {
          "output_type": "stream",
          "name": "stdout",
          "text": [
            "+----------+--------------------+--------------------+--------------------+------+---------+------+------+-----+------------+------------+---------------+-----------------+-----------------------+---------------+---------------+------------------+--------------------+--------------------+-----------+--------+-----+-----------------+-----------------+------------------+\n",
            "|        id|                 url|              region|          region_url| price|     type|sqfeet|  beds|baths|cats_allowed|dogs_allowed|smoking_allowed|wheelchair_access|electric_vehicle_charge|comes_furnished|laundry_options|   parking_options|           image_url|         description|        lat|    long|state|             mean|              std|            zscore|\n",
            "+----------+--------------------+--------------------+--------------------+------+---------+------+------+-----+------------+------------+---------------+-----------------+-----------------------+---------------+---------------+------------------+--------------------+--------------------+-----------+--------+-----+-----------------+-----------------+------------------+\n",
            "|7045590325|https://chicago.c...|             chicago|https://chicago.c...|2449.0|apartment|1000.0|1100.0| 75.0|         0.0|         0.0|            1.0|              0.0|                    0.0|            0.0|    w/d in unit|           carport|https://images.cr...|Furnished or Unfu...|    42.0195| -87.665|   il|1.897564305045198|3.522284227015438| 311.7586102997195|\n",
            "|7046224868|https://chicago.c...|             chicago|https://chicago.c...|2449.0|apartment|1000.0|1100.0| 75.0|         0.0|         0.0|            1.0|              0.0|                    0.0|            0.0|    w/d in unit|           carport|https://images.cr...|Furnished or Unfu...|    42.0195| -87.665|   il|1.897564305045198|3.522284227015438| 311.7586102997195|\n",
            "|7008717287|https://keys.crai...|        florida keys|https://keys.crai...|1500.0|     land| 100.0|1000.0| 35.0|         1.0|         1.0|            1.0|              0.0|                    0.0|            0.0|laundry on site|off-street parking|https://images.cr...|Only one lot avai...|    24.6706|-81.3653|   fl|1.897564305045198|3.522284227015438| 283.3679428933207|\n",
            "|7036731908|https://youngstow...|          youngstown|https://youngstow...| 550.0|apartment| 250.0|1000.0| 25.0|         0.0|         0.0|            0.0|              0.0|                    0.0|            0.0|           null|    street parking|https://images.cr...|           2 bedroom|    41.0252|-80.6687|   oh|1.897564305045198|3.522284227015438| 283.3679428933207|\n",
            "|7041197986|https://panamacit...|         panama city|https://panamacit...|1850.0|    house|4350.0|   8.0|  4.5|         0.0|         1.0|            1.0|              1.0|                    0.0|            1.0|    w/d in unit|   attached garage|https://images.cr...|Furnished and ava...|    32.7578|-85.8761|   fl|1.897564305045198|3.522284227015438|1.7325222218439829|\n",
            "|7042991001|https://panamacit...|         panama city|https://panamacit...|1850.0|    house|4350.0|   8.0|  4.5|         0.0|         1.0|            1.0|              1.0|                    0.0|            1.0|    w/d in unit|   attached garage|https://images.cr...|Furnished and ava...|    32.7578|-85.8761|   fl|1.897564305045198|3.522284227015438|1.7325222218439829|\n",
            "|7033810166|https://eauclaire...|          eau claire|https://eauclaire...|1800.0|    house|2000.0|   8.0|  2.0|         0.0|         0.0|            0.0|              0.0|                    0.0|            0.0|laundry on site|   detached garage|https://images.cr...|Excellent, Clean ...|    44.8718|-91.9265|   wi|1.897564305045198|3.522284227015438|1.7325222218439829|\n",
            "|7026821078|https://toledo.cr...|              toledo|https://toledo.cr...| 629.0|apartment| 720.0|   8.0|  0.0|         1.0|         1.0|            1.0|              0.0|                    0.0|            0.0|           null|              null|https://images.cr...|ð¥ð¥Because y...|    41.6135|-83.6258|   oh|1.897564305045198|3.522284227015438|1.7325222218439829|\n",
            "|7050966551|https://lasvegas....|           las vegas|https://lasvegas....|1204.0|apartment|1036.0|   8.0|  2.0|         1.0|         1.0|            1.0|              0.0|                    0.0|            0.0|           null|              null|https://images.cr...|Community Ameniti...|    36.1968|-115.264|   nv|1.897564305045198|3.522284227015438|1.7325222218439829|\n",
            "|7034093600|https://tricities...|          tri-cities|https://tricities...|1500.0|    house|2200.0|   8.0|  3.0|         0.0|         0.0|            1.0|              0.0|                    0.0|            0.0|    w/d hookups|    street parking|https://images.cr...|12 Bedroom 3 Bath...|    36.3186|-82.3568|   tn|1.897564305045198|3.522284227015438|1.7325222218439829|\n",
            "|7050815252|https://baltimore...|           baltimore|https://baltimore...|2000.0|townhouse|2800.0|   8.0|  2.5|         0.0|         0.0|            0.0|              0.0|                    0.0|            0.0|    w/d in unit|              null|https://images.cr...|This 8 Bedroom, 3...|    39.2933|-76.5599|   md|1.897564305045198|3.522284227015438|1.7325222218439829|\n",
            "|7013550572|https://southbend...|south bend / mich...|https://southbend...| 725.0|    house|4200.0|   8.0|  4.5|         0.0|         0.0|            0.0|              0.0|                    0.0|            1.0|laundry on site|off-street parking|https://images.cr...|Spacious student ...|    41.6838|-86.2396|   in|1.897564305045198|3.522284227015438|1.7325222218439829|\n",
            "|7028736338|https://terrehaut...|         terre haute|https://terrehaut...|1950.0|apartment|3800.0|   8.0|  4.0|         0.0|         0.0|            1.0|              0.0|                    0.0|            0.0|           null|              null|https://images.cr...|This three story ...|     39.471|-87.4009|   in|1.897564305045198|3.522284227015438|1.7325222218439829|\n",
            "|7050768562|https://nd.craigs...|        north dakota|https://nd.craigs...|2000.0|    house|2400.0|   8.0|  4.0|         1.0|         1.0|            1.0|              0.0|                    0.0|            0.0|    w/d in unit|off-street parking|https://images.cr...|Perfect for large...|    47.7199|-103.385|   nd|1.897564305045198|3.522284227015438|1.7325222218439829|\n",
            "|7050685414|https://cookevill...|          cookeville|https://cookevill...| 599.0|    house| 816.0|   8.0|  1.0|         1.0|         1.0|            0.0|              0.0|                    0.0|            0.0|    w/d hookups|off-street parking|https://images.cr...|\"See better photo...| Great Dane|   Husky| null|1.897564305045198|3.522284227015438|1.7325222218439829|\n",
            "|7024009573|https://boulder.c...|             boulder|https://boulder.c...|1000.0|apartment|1944.0|   8.0|  3.0|         0.0|         0.0|            1.0|              0.0|                    0.0|            0.0|laundry on site|off-street parking|https://images.cr...|1 large room avai...|    40.0172|-105.285|   co|1.897564305045198|3.522284227015438|1.7325222218439829|\n",
            "|7049667445|https://iowacity....|           iowa city|https://iowacity....| 742.0|    house|1904.0|   8.0|  4.0|         1.0|         1.0|            1.0|              0.0|                    0.0|            1.0|           null|              null|https://images.cr...|This space has it...|    41.6355|-91.5016|   ia|1.897564305045198|3.522284227015438|1.7325222218439829|\n",
            "|7047458363|https://buffalo.c...|             buffalo|https://buffalo.c...|2800.0|apartment|1650.0|   7.0|  2.0|         1.0|         1.0|            0.0|              0.0|                    0.0|            0.0|laundry on site|off-street parking|https://images.cr...|LOCATION! LOCATIO...|    42.9246|-78.8534|   ny|1.897564305045198|3.522284227015438|1.4486155477799942|\n",
            "|7036727378|https://pullman.c...|    pullman / moscow|https://pullman.c...|3010.0|    house|3500.0|   7.0|  3.0|         1.0|         1.0|            0.0|              0.0|                    0.0|            0.0|    w/d in unit|off-street parking|https://images.cr...|College Hill, Exc...|    46.7396|-117.165|   id|1.897564305045198|3.522284227015438|1.4486155477799942|\n",
            "|7046074189|https://scranton....|scranton / wilkes...|https://scranton....| 550.0|    house|5000.0|   7.0|  3.0|         0.0|         0.0|            0.0|              0.0|                    0.0|            1.0|laundry on site|off-street parking|https://images.cr...|Gorgeous brand ne...|    41.0367|-75.1735|   pa|1.897564305045198|3.522284227015438|1.4486155477799942|\n",
            "+----------+--------------------+--------------------+--------------------+------+---------+------+------+-----+------------+------------+---------------+-----------------+-----------------------+---------------+---------------+------------------+--------------------+--------------------+-----------+--------+-----+-----------------+-----------------+------------------+\n",
            "only showing top 20 rows\n",
            "\n"
          ]
        }
      ]
    },
    {
      "cell_type": "code",
      "metadata": {
        "id": "xyjLEt2flvZQ"
      },
      "source": [
        "houses_cleaned_9 = stats.select('*').where('zscore < 2 and zscore > -2').drop('mean').drop('std').drop('zscore')"
      ],
      "execution_count": 18,
      "outputs": []
    },
    {
      "cell_type": "code",
      "metadata": {
        "id": "oHfcrYRRl1NP"
      },
      "source": [
        "houses_cleaned_91 = houses_cleaned_9.drop('mean').drop('std').drop('zscore')\n",
        "stats_avg = houses_cleaned_91.select('baths').agg(avg('baths').alias('mean'))\n",
        "stats_std = houses_cleaned_91.select('baths').agg(stddev('baths').alias('std'))\n",
        "stats = houses_cleaned_91.select('*').join(stats_avg).join(stats_std)\n",
        "stats = stats.select('*', ((stats.baths - stats.mean) / stats.std).alias('zscore'))"
      ],
      "execution_count": 19,
      "outputs": []
    },
    {
      "cell_type": "code",
      "metadata": {
        "id": "pTj4H8ZNYdBT"
      },
      "source": [
        "houses_cleaned_91 = stats.select('*').where('zscore < 2 and zscore > -2').drop('mean').drop('std').drop('zscore')"
      ],
      "execution_count": 21,
      "outputs": []
    },
    {
      "cell_type": "code",
      "metadata": {
        "id": "nX1ImLSGmIz7"
      },
      "source": [
        "houses_cleaned_92 = houses_cleaned_91.drop('mean').drop('std').drop('zscore')\n",
        "stats_avg = houses_cleaned_92.select('sqfeet').agg(avg('sqfeet').alias('mean'))\n",
        "stats_std = houses_cleaned_92.select('sqfeet').agg(stddev('sqfeet').alias('std'))\n",
        "stats = houses_cleaned_92.select('*').join(stats_avg).join(stats_std)\n",
        "stats = stats.select('*', ((stats.sqfeet - stats.mean) / stats.std).alias('zscore'))"
      ],
      "execution_count": 22,
      "outputs": []
    },
    {
      "cell_type": "markdown",
      "metadata": {
        "id": "Gx6OVD6_bXK7"
      },
      "source": [
        "Même remarque qu'avant avec la surface"
      ]
    },
    {
      "cell_type": "code",
      "metadata": {
        "colab": {
          "base_uri": "https://localhost:8080/"
        },
        "id": "OZ5paJ23Y0oc",
        "outputId": "73f9b9a5-86f0-44c0-b8a5-685d4b9f7557"
      },
      "source": [
        "stats.orderBy(desc('zscore')).show()"
      ],
      "execution_count": 23,
      "outputs": [
        {
          "output_type": "stream",
          "name": "stdout",
          "text": [
            "+----------+--------------------+--------------------+--------------------+------+---------+---------+----+-----+------------+------------+---------------+-----------------+-----------------------+---------------+------------------+------------------+--------------------+--------------------+-------+--------+-----+------------------+-----------------+------------------+\n",
            "|        id|                 url|              region|          region_url| price|     type|   sqfeet|beds|baths|cats_allowed|dogs_allowed|smoking_allowed|wheelchair_access|electric_vehicle_charge|comes_furnished|   laundry_options|   parking_options|           image_url|         description|    lat|    long|state|              mean|              std|            zscore|\n",
            "+----------+--------------------+--------------------+--------------------+------+---------+---------+----+-----+------------+------------+---------------+-----------------+-----------------------+---------------+------------------+------------------+--------------------+--------------------+-------+--------+-----+------------------+-----------------+------------------+\n",
            "|7017516227|https://mankato.c...|             mankato|https://mankato.c...| 750.0|apartment|8388607.0| 2.0|  1.0|         0.0|         0.0|            0.0|              0.0|                    0.0|            0.0|   laundry in bldg|   detached garage|https://images.cr...|Description   2-b...|44.3262|-94.4804|   mn|1032.2640894714782|19454.67559726367|431.13413502974333|\n",
            "|7027211760|https://anchorage...|  anchorage / mat-su|https://anchorage...|1025.0|apartment|8000000.0| 2.0|  1.0|         1.0|         1.0|            1.0|              0.0|                    0.0|            0.0|   laundry in bldg|off-street parking|https://images.cr...|Legacy Apartment ...|61.2037|-149.745|   ak|1032.2640894714782|19454.67559726367| 411.1591424858092|\n",
            "|7041178888|https://syracuse....|            syracuse|https://syracuse....| 500.0|apartment| 999999.0| 1.0|  1.0|         0.0|         0.0|            1.0|              0.0|                    0.0|            0.0|no laundry on site|off-street parking|https://images.cr...|Offered By Draksi...|43.0444|-76.1758|   ny|1032.2640894714782|19454.67559726367|  51.3484139540746|\n",
            "|7048286226|https://newlondon...|          eastern CT|https://newlondon...| 750.0|apartment| 999999.0| 1.0|  1.0|         0.0|         0.0|            1.0|              0.0|                    0.0|            0.0|   laundry in bldg|off-street parking|https://images.cr...|Various one bedro...|41.3507|-72.1062|   ct|1032.2640894714782|19454.67559726367|  51.3484139540746|\n",
            "|7046343123|https://syracuse....|            syracuse|https://syracuse....| 625.0|   duplex| 999999.0| 1.0|  1.0|         0.0|         0.0|            1.0|              0.0|                    0.0|            0.0|              null|off-street parking|https://images.cr...|Rowland St Street...|43.0444|-76.1758|   ny|1032.2640894714782|19454.67559726367|  51.3484139540746|\n",
            "|7039811537|https://boston.cr...|              boston|https://boston.cr...|2350.0|apartment| 999999.0| 1.0|  1.0|         0.0|         0.0|            1.0|              0.0|                    0.0|            0.0|       w/d in unit|    street parking|https://images.cr...|Beautiful brownst...|42.3251|-71.0953|   ma|1032.2640894714782|19454.67559726367|  51.3484139540746|\n",
            "|7049612975|https://tampa.cra...|      tampa bay area|https://tampa.cra...|1090.0|apartment| 775814.0| 1.0|  1.0|         1.0|         1.0|            1.0|              0.0|                    0.0|            0.0|       w/d in unit|   detached garage|https://images.cr...|Aluna Largo Apart...|27.9004|-82.7152|   fl|1032.2640894714782|19454.67559726367| 39.82496300372661|\n",
            "|7044639166|https://spokane.c...|spokane / coeur d...|https://spokane.c...| 725.0|apartment|  99204.0| 1.0|  1.0|         0.0|         0.0|            0.0|              0.0|                    0.0|            0.0|              null|              null|https://images.cr...|This modern 1 bed...|47.6485|-117.437|   id|1032.2640894714782|19454.67559726367| 5.046176967573622|\n",
            "|7043465198|https://spokane.c...|spokane / coeur d...|https://spokane.c...|1295.0|    condo|  99202.0| 1.0|  1.0|         0.0|         0.0|            0.0|              0.0|                    0.0|            0.0|   laundry in bldg|off-street parking|https://images.cr...|This is a 1 Bedro...|47.6481|-117.394|   id|1032.2640894714782|19454.67559726367| 5.046074164523013|\n",
            "|7033422566|https://stockton....|            stockton|https://stockton....|1785.0|apartment|  95242.0| 2.0|  2.0|         1.0|         1.0|            1.0|              0.0|                    0.0|            0.0|       w/d in unit|           carport|https://images.cr...|CALL FOR A TOUR T...|38.1308|-121.335|   ca|1032.2640894714782|19454.67559726367| 4.842524124317923|\n",
            "|7047166005|https://sandiego....|           san diego|https://sandiego....|2100.0|apartment|  92037.0| 1.0|  1.0|         1.0|         1.0|            1.0|              1.0|                    0.0|            1.0|              null|              null|https://images.cr...|LA JOLLA LIVING A...|32.8455|-117.252|   ca|1032.2640894714782|19454.67559726367| 4.677782235717592|\n",
            "|7047854763|https://houston.c...|             houston|https://houston.c...|2650.0|    condo|  77006.0| 3.0|  2.5|         1.0|         1.0|            0.0|              0.0|                    0.0|            0.0|       w/d in unit|   detached garage|https://images.cr...|Located in the vi...|29.7409|-95.3923|   tx|1032.2640894714782|19454.67559726367| 3.905165908868424|\n",
            "|7018125932|https://fortsmith...|          fort smith|https://fortsmith...|1350.0|townhouse|  72916.0| 3.0|  2.0|         1.0|         1.0|            0.0|              0.0|                    0.0|            0.0|       w/d in unit|   attached garage|https://images.cr...|\"See better photo...|35.2502|-94.3703|   ar|1032.2640894714782|19454.67559726367|3.6949336703737727|\n",
            "|7045242974|https://stlouis.c...|        st louis, MO|https://stlouis.c...| 350.0|    house|  63134.0| 2.0|  1.0|         1.0|         1.0|            1.0|              0.0|                    0.0|            0.0|       w/d in unit|              null|https://images.cr...|It comes with a s...|38.7435| -90.341|   il|1032.2640894714782|19454.67559726367| 3.192123949846957|\n",
            "|7051087467|https://providenc...|        rhode island|https://providenc...|1600.0|apartment|  51206.0| 2.0|  2.0|         1.0|         1.0|            1.0|              0.0|                    0.0|            0.0|       w/d in unit|off-street parking|https://images.cr...|Current Special: ...|41.6914|-71.5768|   ri|1032.2640894714782|19454.67559726367|2.5790065560170805|\n",
            "|7016324133|https://nd.craigs...|        north dakota|https://nd.craigs...|1900.0|    house|  50000.0| 3.0|  2.0|         1.0|         1.0|            1.0|              1.0|                    0.0|            1.0|       w/d in unit|off-street parking|https://images.cr...|5 acres seller fi...|47.8088|-103.454|   nd|1032.2640894714782|19454.67559726367| 2.517016316500076|\n",
            "|7047243144|https://nd.craigs...|        north dakota|https://nd.craigs...|1900.0|    house|  50000.0| 3.0|  2.0|         1.0|         1.0|            1.0|              1.0|                    0.0|            1.0|       w/d in unit|off-street parking|https://images.cr...|5 acres seller fi...|47.8088|-103.454|   nd|1032.2640894714782|19454.67559726367| 2.517016316500076|\n",
            "|7016321330|https://nd.craigs...|        north dakota|https://nd.craigs...|1900.0|    house|  50000.0| 3.0|  2.0|         1.0|         1.0|            1.0|              1.0|                    0.0|            1.0|       w/d in unit|off-street parking|https://images.cr...|5 acres seller fi...|47.8088|-103.454|   nd|1032.2640894714782|19454.67559726367| 2.517016316500076|\n",
            "|7047243347|https://nd.craigs...|        north dakota|https://nd.craigs...|1900.0|    house|  50000.0| 3.0|  2.0|         1.0|         1.0|            1.0|              1.0|                    0.0|            1.0|       w/d in unit|off-street parking|https://images.cr...|5 acres seller fi...|47.8088|-103.454|   nd|1032.2640894714782|19454.67559726367| 2.517016316500076|\n",
            "|7044476943|https://detroit.c...|       detroit metro|https://detroit.c...| 700.0|apartment|  48207.0| 1.0|  1.0|         1.0|         1.0|            1.0|              0.0|                    0.0|            1.0|       w/d in unit|   attached garage|https://images.cr...|1531 E Larned St,...|42.3524|-83.0271|   mi|1032.2640894714782|19454.67559726367| 2.424853381629438|\n",
            "+----------+--------------------+--------------------+--------------------+------+---------+---------+----+-----+------------+------------+---------------+-----------------+-----------------------+---------------+------------------+------------------+--------------------+--------------------+-------+--------+-----+------------------+-----------------+------------------+\n",
            "only showing top 20 rows\n",
            "\n"
          ]
        }
      ]
    },
    {
      "cell_type": "code",
      "metadata": {
        "id": "ekxVgExvmUzY"
      },
      "source": [
        "houses_cleaned_92 = stats.select('*').where('zscore < 2 and zscore > -2').drop('mean').drop('std').drop('zscore')"
      ],
      "execution_count": 24,
      "outputs": []
    },
    {
      "cell_type": "code",
      "metadata": {
        "colab": {
          "base_uri": "https://localhost:8080/"
        },
        "id": "AOnPk-RxujVh",
        "outputId": "2a873e83-9745-4ea5-a271-ab5330d23047"
      },
      "source": [
        "houses_cleaned_92.count()"
      ],
      "execution_count": null,
      "outputs": [
        {
          "output_type": "execute_result",
          "data": {
            "text/plain": [
              "367379"
            ]
          },
          "metadata": {},
          "execution_count": 77
        }
      ]
    },
    {
      "cell_type": "markdown",
      "metadata": {
        "id": "avlq6IeLRXe8"
      },
      "source": [
        "### Imputation des valeurs nuls"
      ]
    },
    {
      "cell_type": "code",
      "metadata": {
        "colab": {
          "base_uri": "https://localhost:8080/"
        },
        "id": "NNljZxI3RfBV",
        "outputId": "411d061b-e945-4585-cff2-ac5866b61740"
      },
      "source": [
        "houses_cleaned_92.where('state is NULL').count()"
      ],
      "execution_count": null,
      "outputs": [
        {
          "output_type": "execute_result",
          "data": {
            "text/plain": [
              "13368"
            ]
          },
          "metadata": {},
          "execution_count": 25
        }
      ]
    },
    {
      "cell_type": "code",
      "metadata": {
        "colab": {
          "base_uri": "https://localhost:8080/"
        },
        "id": "WXffLFsqTIQF",
        "outputId": "0ec6bd9e-3f41-4941-f5e6-58abf94e30b8"
      },
      "source": [
        "houses_cleaned_92.where('region is NULL').count()"
      ],
      "execution_count": null,
      "outputs": [
        {
          "output_type": "execute_result",
          "data": {
            "text/plain": [
              "0"
            ]
          },
          "metadata": {},
          "execution_count": 26
        }
      ]
    },
    {
      "cell_type": "code",
      "metadata": {
        "colab": {
          "base_uri": "https://localhost:8080/"
        },
        "id": "3nUjshInTKYZ",
        "outputId": "9292e928-33e1-4901-ddb7-a37dae8a5141"
      },
      "source": [
        "houses_cleaned_92.where('type is NULL').count()"
      ],
      "execution_count": null,
      "outputs": [
        {
          "output_type": "execute_result",
          "data": {
            "text/plain": [
              "0"
            ]
          },
          "metadata": {},
          "execution_count": 27
        }
      ]
    },
    {
      "cell_type": "code",
      "metadata": {
        "colab": {
          "base_uri": "https://localhost:8080/"
        },
        "id": "GWPqJhg2TKeI",
        "outputId": "f045e8f0-a569-42b3-ea22-85111b3958eb"
      },
      "source": [
        "houses_cleaned_92.where('sqfeet is NULL').count()"
      ],
      "execution_count": null,
      "outputs": [
        {
          "output_type": "execute_result",
          "data": {
            "text/plain": [
              "0"
            ]
          },
          "metadata": {},
          "execution_count": 28
        }
      ]
    },
    {
      "cell_type": "code",
      "metadata": {
        "colab": {
          "base_uri": "https://localhost:8080/"
        },
        "id": "ktJcoTQ0TNVk",
        "outputId": "19b75013-bc9f-41ec-cf8d-2d8bc6e77c3a"
      },
      "source": [
        "houses_cleaned_92.where('beds is NULL').count()"
      ],
      "execution_count": null,
      "outputs": [
        {
          "output_type": "execute_result",
          "data": {
            "text/plain": [
              "0"
            ]
          },
          "metadata": {},
          "execution_count": 29
        }
      ]
    },
    {
      "cell_type": "code",
      "metadata": {
        "colab": {
          "base_uri": "https://localhost:8080/"
        },
        "id": "irHl3MgXTTvz",
        "outputId": "54966de9-8692-43b5-a46d-78473151f7f2"
      },
      "source": [
        "houses_cleaned_92.where('baths is NULL').count()"
      ],
      "execution_count": null,
      "outputs": [
        {
          "output_type": "execute_result",
          "data": {
            "text/plain": [
              "0"
            ]
          },
          "metadata": {},
          "execution_count": 30
        }
      ]
    },
    {
      "cell_type": "code",
      "metadata": {
        "colab": {
          "base_uri": "https://localhost:8080/"
        },
        "id": "GnYHp3ZTTT4e",
        "outputId": "fd3c3ec5-ab0e-4d4a-898f-4a23001fcad5"
      },
      "source": [
        "houses_cleaned_92.where('cats_allowed is NULL').count()"
      ],
      "execution_count": null,
      "outputs": [
        {
          "output_type": "execute_result",
          "data": {
            "text/plain": [
              "0"
            ]
          },
          "metadata": {},
          "execution_count": 31
        }
      ]
    },
    {
      "cell_type": "code",
      "metadata": {
        "colab": {
          "base_uri": "https://localhost:8080/"
        },
        "id": "14Rw-qF-TWLH",
        "outputId": "5e9dc95d-b8f3-4d48-be1d-47c55f689966"
      },
      "source": [
        "houses_cleaned_92.where('dogs_allowed is NULL').count()"
      ],
      "execution_count": null,
      "outputs": [
        {
          "output_type": "execute_result",
          "data": {
            "text/plain": [
              "0"
            ]
          },
          "metadata": {},
          "execution_count": 32
        }
      ]
    },
    {
      "cell_type": "code",
      "metadata": {
        "colab": {
          "base_uri": "https://localhost:8080/"
        },
        "id": "iG7koxmGTdm0",
        "outputId": "0737b582-bac8-4706-a240-7ce52e85163f"
      },
      "source": [
        "houses_cleaned_92.where('smoking_allowed is NULL').count()"
      ],
      "execution_count": null,
      "outputs": [
        {
          "output_type": "execute_result",
          "data": {
            "text/plain": [
              "0"
            ]
          },
          "metadata": {},
          "execution_count": 33
        }
      ]
    },
    {
      "cell_type": "code",
      "metadata": {
        "colab": {
          "base_uri": "https://localhost:8080/"
        },
        "id": "yQULA1ubTdpa",
        "outputId": "3d7365ad-40c2-4c44-a710-51dbb47375a3"
      },
      "source": [
        "houses_cleaned_92.where('wheelchair_access is NULL').count()"
      ],
      "execution_count": null,
      "outputs": [
        {
          "output_type": "execute_result",
          "data": {
            "text/plain": [
              "0"
            ]
          },
          "metadata": {},
          "execution_count": 34
        }
      ]
    },
    {
      "cell_type": "code",
      "metadata": {
        "colab": {
          "base_uri": "https://localhost:8080/"
        },
        "id": "iwWwBZ_QTdsp",
        "outputId": "0013138f-d40f-4647-de08-d1d249c740c5"
      },
      "source": [
        "houses_cleaned_92.where('electric_vehicle_charge is NULL').count()"
      ],
      "execution_count": null,
      "outputs": [
        {
          "output_type": "execute_result",
          "data": {
            "text/plain": [
              "0"
            ]
          },
          "metadata": {},
          "execution_count": 35
        }
      ]
    },
    {
      "cell_type": "code",
      "metadata": {
        "colab": {
          "base_uri": "https://localhost:8080/"
        },
        "id": "x8Z_1TF2Tiz7",
        "outputId": "f4924050-224c-4d07-832a-07e064b2aa25"
      },
      "source": [
        "houses_cleaned_92.where('comes_furnished is NULL').count()"
      ],
      "execution_count": null,
      "outputs": [
        {
          "output_type": "execute_result",
          "data": {
            "text/plain": [
              "0"
            ]
          },
          "metadata": {},
          "execution_count": 36
        }
      ]
    },
    {
      "cell_type": "code",
      "metadata": {
        "colab": {
          "base_uri": "https://localhost:8080/"
        },
        "id": "mWdDeLbjTi2e",
        "outputId": "1c30a44c-5f03-47ca-8de3-16faa79aa1f1"
      },
      "source": [
        "houses_cleaned_92.where('laundry_options is NULL').count()"
      ],
      "execution_count": null,
      "outputs": [
        {
          "output_type": "execute_result",
          "data": {
            "text/plain": [
              "77939"
            ]
          },
          "metadata": {},
          "execution_count": 37
        }
      ]
    },
    {
      "cell_type": "code",
      "metadata": {
        "colab": {
          "base_uri": "https://localhost:8080/"
        },
        "id": "mVlGeWmnTuYk",
        "outputId": "87477897-10a1-465c-865b-0c98f80c44a9"
      },
      "source": [
        "houses_cleaned_92.where('parking_options is NULL').count()"
      ],
      "execution_count": null,
      "outputs": [
        {
          "output_type": "execute_result",
          "data": {
            "text/plain": [
              "138618"
            ]
          },
          "metadata": {},
          "execution_count": 38
        }
      ]
    },
    {
      "cell_type": "markdown",
      "metadata": {
        "id": "DRi_D28vYwxd"
      },
      "source": [
        "Le nombre de valeurs null pour l'attribut parking_option est très élevé. Cet attribut dépend beaucoup plus sur le l'attribut type, qui représente le type de la maison. On va remplacer les valeurs null avec la valeur parking_option la plus fréquente pour le type de cette maison"
      ]
    },
    {
      "cell_type": "code",
      "metadata": {
        "id": "skb8ifD5ZULf"
      },
      "source": [
        "windowSpec  = Window.orderBy(desc(\"count\")).partitionBy('type')\n",
        "tmp = houses_cleaned_92.where('parking_options is not null').select('type', 'parking_options').groupBy('type', 'parking_options').agg(count('*').alias('count'))\\\n",
        "    .withColumn(\"dense_rank_parking_options_count\",dense_rank().over(windowSpec)).where('dense_rank_parking_options_count = 1')"
      ],
      "execution_count": 25,
      "outputs": []
    },
    {
      "cell_type": "code",
      "metadata": {
        "colab": {
          "base_uri": "https://localhost:8080/"
        },
        "id": "tUCtDaXdbebK",
        "outputId": "70641e16-e6de-4e48-e81a-bc64ec242dba"
      },
      "source": [
        "tmp.show(100)"
      ],
      "execution_count": 26,
      "outputs": [
        {
          "output_type": "stream",
          "name": "stdout",
          "text": [
            "+---------------+------------------+------+--------------------------------+\n",
            "|           type|   parking_options| count|dense_rank_parking_options_count|\n",
            "+---------------+------------------+------+--------------------------------+\n",
            "|      apartment|off-street parking|105608|                               1|\n",
            "|assisted living|off-street parking|     2|                               1|\n",
            "|          condo|off-street parking|  1800|                               1|\n",
            "|  cottage/cabin|off-street parking|   420|                               1|\n",
            "|         duplex|off-street parking|  1827|                               1|\n",
            "|           flat|off-street parking|   208|                               1|\n",
            "|          house|   attached garage| 10420|                               1|\n",
            "|         in-law|off-street parking|    90|                               1|\n",
            "|           land|off-street parking|     6|                               1|\n",
            "|           loft|off-street parking|   373|                               1|\n",
            "|   manufactured|off-street parking|  3077|                               1|\n",
            "|      townhouse|off-street parking|  5780|                               1|\n",
            "+---------------+------------------+------+--------------------------------+\n",
            "\n"
          ]
        }
      ]
    },
    {
      "cell_type": "markdown",
      "metadata": {
        "id": "JEIkMgW5eBY6"
      },
      "source": [
        "On remarque que off-street parking est l'option la plus fréquente pour toute les types des maisons sauf pour house où on a attached garage "
      ]
    },
    {
      "cell_type": "code",
      "metadata": {
        "id": "W3NJxTTAeA88"
      },
      "source": [
        "houses_cleaned_9 = houses_cleaned_92.withColumn('parking_options', \\\n",
        "                when((houses_cleaned_92.parking_options.isNull()) & (houses_cleaned_92.type == \"house\"), \"attached garage\").otherwise(houses_cleaned_92.parking_options))\n",
        "\n",
        "houses_cleaned_10 = houses_cleaned_9.withColumn('parking_options', \\\n",
        "                when((houses_cleaned_9.parking_options.isNull()) & (houses_cleaned_9.type != \"house\"), \"off-street parking\").otherwise(houses_cleaned_9.parking_options))"
      ],
      "execution_count": 28,
      "outputs": []
    },
    {
      "cell_type": "code",
      "metadata": {
        "colab": {
          "base_uri": "https://localhost:8080/"
        },
        "id": "2M9yU5XMiPgW",
        "outputId": "8014fc4d-188b-4fc9-b378-f931053aaeaf"
      },
      "source": [
        "houses_cleaned_10.where('parking_options is NULL').count()"
      ],
      "execution_count": null,
      "outputs": [
        {
          "output_type": "execute_result",
          "data": {
            "text/plain": [
              "0"
            ]
          },
          "metadata": {},
          "execution_count": 17
        }
      ]
    },
    {
      "cell_type": "markdown",
      "metadata": {
        "id": "Dyl9uZBps0j3"
      },
      "source": [
        "On fait la même chose avec laundry_options (on ignore assisted living vu qu'il y a seulement deux maisons de ce type)"
      ]
    },
    {
      "cell_type": "code",
      "metadata": {
        "id": "e6smDYaVsq0Y"
      },
      "source": [
        "windowSpec  = Window.orderBy(desc(\"count\")).partitionBy('type')\n",
        "tmp = houses_cleaned_10.where('laundry_options is not null').select('type', 'laundry_options').groupBy('type', 'laundry_options').agg(count('*').alias('count'))\\\n",
        "    .withColumn(\"dense_rank_laundry_options_count\",dense_rank().over(windowSpec)).where('dense_rank_laundry_options_count = 1')"
      ],
      "execution_count": 29,
      "outputs": []
    },
    {
      "cell_type": "code",
      "metadata": {
        "colab": {
          "base_uri": "https://localhost:8080/"
        },
        "id": "nQK9Innubh0b",
        "outputId": "d687a443-cb33-4e81-ed89-f054fe216150"
      },
      "source": [
        "tmp.show(100)"
      ],
      "execution_count": 30,
      "outputs": [
        {
          "output_type": "stream",
          "name": "stdout",
          "text": [
            "+---------------+---------------+------+--------------------------------+\n",
            "|           type|laundry_options| count|dense_rank_laundry_options_count|\n",
            "+---------------+---------------+------+--------------------------------+\n",
            "|      apartment|    w/d in unit|102913|                               1|\n",
            "|assisted living|    w/d in unit|     1|                               1|\n",
            "|assisted living|laundry on site|     1|                               1|\n",
            "|          condo|    w/d in unit|  3127|                               1|\n",
            "|  cottage/cabin|    w/d in unit|   221|                               1|\n",
            "|         duplex|    w/d hookups|  2138|                               1|\n",
            "|           flat|    w/d in unit|   217|                               1|\n",
            "|          house|    w/d hookups| 10381|                               1|\n",
            "|         in-law|    w/d in unit|    61|                               1|\n",
            "|           land|    w/d in unit|     3|                               1|\n",
            "|           loft|    w/d in unit|   397|                               1|\n",
            "|   manufactured|    w/d hookups|  2859|                               1|\n",
            "|      townhouse|    w/d in unit|  6283|                               1|\n",
            "+---------------+---------------+------+--------------------------------+\n",
            "\n"
          ]
        }
      ]
    },
    {
      "cell_type": "code",
      "metadata": {
        "id": "Rpn0bdcSuYqo"
      },
      "source": [
        "houses_cleaned_11 = houses_cleaned_10.withColumn('laundry_options', \\\n",
        "                when((houses_cleaned_10.laundry_options.isNull()) & ((houses_cleaned_10.type == \"house\") | (houses_cleaned_10.type == \"duplex\") | (houses_cleaned_10.type == \"manufactured\")), \"w/d hookups\").otherwise(houses_cleaned_10.laundry_options))\n",
        "\n",
        "houses_cleaned_12 = houses_cleaned_11.withColumn('laundry_options', \\\n",
        "                when((houses_cleaned_11.laundry_options.isNull()) & (houses_cleaned_11.type != \"house\") & (houses_cleaned_11.type != \"duplex\") & (houses_cleaned_11.type != \"manufactured\"), \"w/d in unit\").otherwise(houses_cleaned_11.laundry_options))"
      ],
      "execution_count": 31,
      "outputs": []
    },
    {
      "cell_type": "code",
      "metadata": {
        "colab": {
          "base_uri": "https://localhost:8080/"
        },
        "id": "fgYjJZeay5v0",
        "outputId": "8f93f472-ffb7-4dda-989b-27092d149a5f"
      },
      "source": [
        "houses_cleaned_12.where('laundry_options is NULL').count()"
      ],
      "execution_count": null,
      "outputs": [
        {
          "output_type": "execute_result",
          "data": {
            "text/plain": [
              "0"
            ]
          },
          "metadata": {},
          "execution_count": 24
        }
      ]
    },
    {
      "cell_type": "markdown",
      "metadata": {
        "id": "tpCxwAUb5I7u"
      },
      "source": [
        "Pour l'attribut état, le nombre de ligne avec des valeurs null représente moins de 3% du dataset, on va éliminer directement toutes ces lignes"
      ]
    },
    {
      "cell_type": "code",
      "metadata": {
        "id": "UXjYe26N5Gm2"
      },
      "source": [
        "houses_cleaned_13 = houses_cleaned_12.select('*').where('state is not null')"
      ],
      "execution_count": 32,
      "outputs": []
    },
    {
      "cell_type": "code",
      "metadata": {
        "colab": {
          "base_uri": "https://localhost:8080/"
        },
        "id": "WRO78xZi57FA",
        "outputId": "5e061e08-7a8b-4bfe-bcdd-b39459e39f93"
      },
      "source": [
        "houses_cleaned_13.where('state is NULL').count()"
      ],
      "execution_count": null,
      "outputs": [
        {
          "output_type": "execute_result",
          "data": {
            "text/plain": [
              "0"
            ]
          },
          "metadata": {},
          "execution_count": 26
        }
      ]
    },
    {
      "cell_type": "markdown",
      "metadata": {
        "id": "WSD7jvaN2_iu"
      },
      "source": [
        "## Séléction d'attribut"
      ]
    },
    {
      "cell_type": "code",
      "metadata": {
        "id": "vRzjBVJr2_B-"
      },
      "source": [
        "houses_cleaned = houses_cleaned_13[['region', 'type', 'sqfeet', 'beds','baths','cats_allowed',\n",
        "             'dogs_allowed','smoking_allowed','wheelchair_access','electric_vehicle_charge',\n",
        "             'comes_furnished','laundry_options','parking_options', 'state', 'price']]"
      ],
      "execution_count": 33,
      "outputs": []
    },
    {
      "cell_type": "markdown",
      "metadata": {
        "id": "F8xVQ4erZDuH"
      },
      "source": [
        "## Quelques statistiques"
      ]
    },
    {
      "cell_type": "code",
      "metadata": {
        "colab": {
          "base_uri": "https://localhost:8080/"
        },
        "id": "WYUsske8YbEj",
        "outputId": "b25e95af-c623-4a43-b7f2-545ad9f29e47"
      },
      "source": [
        "print(\"Nombre total de données:\", houses_cleaned.select('*').count())"
      ],
      "execution_count": null,
      "outputs": [
        {
          "output_type": "stream",
          "name": "stdout",
          "text": [
            "Nombre total de données: 364119\n"
          ]
        }
      ]
    },
    {
      "cell_type": "code",
      "metadata": {
        "id": "Y58VXurubbol",
        "colab": {
          "base_uri": "https://localhost:8080/"
        },
        "outputId": "9ba24200-e5a6-47cb-ec36-9441072d75e2"
      },
      "source": [
        "print(\"Statistique générales sur les attributs:\")\n",
        "houses_cleaned.describe().show()"
      ],
      "execution_count": null,
      "outputs": [
        {
          "output_type": "stream",
          "name": "stdout",
          "text": [
            "Statistique générales sur les attributs:\n",
            "+-------+--------------------+---------+-----------------+------------------+------------------+------------------+-------------------+------------------+-------------------+-----------------------+--------------------+---------------+---------------+------+------------------+\n",
            "|summary|              region|     type|           sqfeet|              beds|             baths|      cats_allowed|       dogs_allowed|   smoking_allowed|  wheelchair_access|electric_vehicle_charge|     comes_furnished|laundry_options|parking_options| state|             price|\n",
            "+-------+--------------------+---------+-----------------+------------------+------------------+------------------+-------------------+------------------+-------------------+-----------------------+--------------------+---------------+---------------+------+------------------+\n",
            "|  count|              354011|   354011|           354011|            354011|            354011|            354011|             354011|            354011|             354011|                 354011|              354011|         354011|         354011|354011|            354011|\n",
            "|   mean|                null|     null|971.4339441429786|1.8523944171226319|1.4475397657134947|0.7292033298400332| 0.7087943594973037|0.7349856360395581|0.07983650225557963|   0.011821666558383778|0.042368739954408194|           null|           null|  null|1164.3178093336082|\n",
            "| stddev|                null|     null| 389.287278916254|0.8354132891043299|0.5043943636422076|0.4443719066137891|0.45431871906226545|0.4413414789825139| 0.2710402971494848|    0.10808305952827783| 0.20142925418275442|           null|           null|  null|497.25095990493764|\n",
            "|    min|         SF bay area|apartment|              0.0|               0.0|               1.0|               0.0|                0.0|               0.0|                0.0|                    0.0|                 0.0|laundry in bldg|attached garage|    ak|             107.0|\n",
            "|    max|zanesville / camb...|townhouse|          34135.0|               8.0|               2.5|               1.0|                1.0|               1.0|                1.0|                    1.0|                 1.0|    w/d in unit|  valet parking|    wv|            3441.0|\n",
            "+-------+--------------------+---------+-----------------+------------------+------------------+------------------+-------------------+------------------+-------------------+-----------------------+--------------------+---------------+---------------+------+------------------+\n",
            "\n"
          ]
        }
      ]
    },
    {
      "cell_type": "code",
      "metadata": {
        "colab": {
          "base_uri": "https://localhost:8080/"
        },
        "id": "A1UNucx_ZO92",
        "outputId": "2c62a23b-095a-4dd0-d6b2-9e5c6881043e"
      },
      "source": [
        "print(\"Moyenne de prix et de surface par state:\\n\")\n",
        "houses_cleaned.select('state', 'price', 'sqfeet').groupBy('state').agg(avg('price').alias('Avg price'), avg('sqfeet').alias('Avg sqfeet')).orderBy(desc('Avg price')).show(50)"
      ],
      "execution_count": null,
      "outputs": [
        {
          "output_type": "stream",
          "name": "stdout",
          "text": [
            "Moyenne de prix et de surface par state:\n",
            "\n",
            "+-----+------------------+------------------+\n",
            "|state|         Avg price|        Avg sqfeet|\n",
            "+-----+------------------+------------------+\n",
            "|   hi|1922.5208070617907| 832.4728877679697|\n",
            "|   dc| 1807.679697912039| 871.0390937361173|\n",
            "|   ca| 1740.174820635463| 928.3293474547318|\n",
            "|   ma|1729.6300731869594| 984.3222444000887|\n",
            "|   nj|1692.9481149682717|1013.4912280701755|\n",
            "|   ri|            1576.5|1020.1131664853101|\n",
            "|   nh|1563.8063844552394| 974.4365024288688|\n",
            "|   co| 1464.577128675067| 935.4357579228713|\n",
            "|   wa|1450.6633281972265| 959.6104776579352|\n",
            "|   vt|1442.3744769874477|1055.1108786610878|\n",
            "|   me|1404.9381443298969|1088.6417525773195|\n",
            "|   md|1384.9613417569194| 955.2224729241877|\n",
            "|   or|1335.5433315334774| 976.3700053995681|\n",
            "|   ct| 1320.500287356322| 992.0609195402299|\n",
            "|   de| 1279.663810483871| 913.3618951612904|\n",
            "|   ny|1275.7787948131197|1029.7568922305763|\n",
            "|   fl|1227.6812670299728| 1022.841280653951|\n",
            "|   ut| 1209.345641025641| 980.8209230769231|\n",
            "|   nv| 1206.456686930091| 922.7439209726443|\n",
            "|   pa|1196.7493493266945|1021.3126626683263|\n",
            "|   mn|1191.5793973370708|1004.2724597056763|\n",
            "|   ak|1175.5862580326248| 919.0899653979238|\n",
            "|   va|1149.7928217099504|1027.5275751386052|\n",
            "|   mt|1134.1766586730616|1121.1278976818546|\n",
            "|   sc|1113.7188669160876|1013.6382683057188|\n",
            "|   id|1110.7236363636364|1047.6717575757575|\n",
            "|   wi|1104.4770687122573|  989.922474294108|\n",
            "|   az| 1092.598332515939| 857.0487166911885|\n",
            "|   wv|1072.0096021947875|1116.7050754458162|\n",
            "|   ne|1031.9233201581028|1028.2343873517787|\n",
            "|   mi| 1026.756210369265| 998.6007459903021|\n",
            "|   tx|1023.1530573358739|  881.178001039321|\n",
            "|   nc| 993.1101295290396| 999.4366382140512|\n",
            "|   nd| 986.5333932315065|1009.7247678945793|\n",
            "|   il| 975.5852708738976| 991.5663726949948|\n",
            "|   nm| 964.6620530565167| 918.2691272587466|\n",
            "|   ga| 951.0413995520198| 981.2578203444814|\n",
            "|   tn| 950.4035266821346| 968.9455220417633|\n",
            "|   la| 941.3942336420675| 956.1682103376157|\n",
            "|   ia|  934.600589639197| 953.7755159342973|\n",
            "|   ky| 903.2355509355509| 926.4449064449065|\n",
            "|   oh| 891.0550586690736| 979.4159350127185|\n",
            "|   al| 886.4595538833647| 1041.475812953507|\n",
            "|   in| 877.6562757710705| 984.0900544285007|\n",
            "|   ok| 872.6170565481673| 914.4310186037944|\n",
            "|   ar| 865.9044312169312|1019.7096560846561|\n",
            "|   sd| 854.2016558249557| 977.6913069189828|\n",
            "|   ms| 790.8988413547237|1005.2413101604278|\n",
            "|   ks| 768.2467931587387| 883.9373329770176|\n",
            "|   mo| 763.4862568715643|1000.0814592703648|\n",
            "+-----+------------------+------------------+\n",
            "\n"
          ]
        }
      ]
    },
    {
      "cell_type": "code",
      "metadata": {
        "colab": {
          "base_uri": "https://localhost:8080/"
        },
        "id": "quwmrRC3MgzK",
        "outputId": "c09d914d-b2ce-47bd-fbb4-a8910dbcdb81"
      },
      "source": [
        "print(\"Prix de 1 sqfeet par state:\\n\")\n",
        "tmp = houses_cleaned.select('state', 'price', 'sqfeet').groupBy('state').agg(avg('price').alias('Avgprice'), avg('sqfeet').alias('Avgsqfeet'))\n",
        "tmp = tmp.withColumn('$/sqfeet', col('Avgprice')/col('Avgsqfeet')).orderBy(desc('$/sqfeet')).show(50)"
      ],
      "execution_count": null,
      "outputs": [
        {
          "output_type": "stream",
          "name": "stdout",
          "text": [
            "Prix de 1 sqfeet par state:\n",
            "\n",
            "+-----+------------------+------------------+------------------+\n",
            "|state|          Avgprice|         Avgsqfeet|          $/sqfeet|\n",
            "+-----+------------------+------------------+------------------+\n",
            "|   hi|1922.5208070617907| 832.4728877679697|2.3094095138839448|\n",
            "|   dc| 1807.679697912039| 871.0390937361173|2.0753140828139207|\n",
            "|   ca| 1740.174820635463| 928.3293474547318|1.8745231155372035|\n",
            "|   ma|1729.6300731869594| 984.3222444000887|1.7571786912538085|\n",
            "|   nj|1692.9481149682717|1013.4912280701755|1.6704122029668418|\n",
            "|   nh|1563.8063844552394| 974.4365024288688|1.6048314903611618|\n",
            "|   co| 1464.577128675067| 935.4357579228713|1.5656629717973904|\n",
            "|   ri|            1576.5|1020.1131664853101| 1.545416775112962|\n",
            "|   wa|1450.6633281972265| 959.6104776579352|1.5117210180299145|\n",
            "|   md|1384.9613417569194| 955.2224729241877|1.4498835412835167|\n",
            "|   de| 1279.663810483871| 913.3618951612904| 1.401047949627782|\n",
            "|   or|1335.5433315334774| 976.3700053995681|1.3678659976725953|\n",
            "|   vt|1442.3744769874477|1055.1108786610878|1.3670359259472225|\n",
            "|   ct| 1320.500287356322| 992.0609195402299|1.3310677412515222|\n",
            "|   nv| 1206.456686930091| 922.7439209726443|1.3074664156642628|\n",
            "|   me|1404.9381443298969|1088.6417525773195|1.2905422201598986|\n",
            "|   ak|1175.5862580326248| 919.0899653979238|1.2790763715102142|\n",
            "|   az| 1092.598332515939| 857.0487166911885|1.2748380707390101|\n",
            "|   ny|1275.7787948131197|1029.7568922305763|1.2389126059157813|\n",
            "|   ut| 1209.345641025641| 980.8209230769231|1.2329933146530108|\n",
            "|   fl|1227.6812670299728| 1022.841280653951|1.2002656621808008|\n",
            "|   mn|1191.5793973370708|1004.2724597056763|1.1865100808263613|\n",
            "|   pa|1196.7493493266945|1021.3126626683263|1.1717756893369113|\n",
            "|   tx|1023.1530573358739|  881.178001039321|1.1611196104863013|\n",
            "|   va|1149.7928217099504|1027.5275751386052|1.1189897473601647|\n",
            "|   wi|1104.4770687122573|  989.922474294108| 1.115720773487677|\n",
            "|   sc|1113.7188669160876|1013.6382683057188| 1.098734037318512|\n",
            "|   id|1110.7236363636364|1047.6717575757575| 1.060182856254307|\n",
            "|   nm| 964.6620530565167| 918.2691272587466| 1.050522144783702|\n",
            "|   mi| 1026.756210369265| 998.6007459903021|1.0281949162285489|\n",
            "|   mt|1134.1766586730616|1121.1278976818546|1.0116389584258743|\n",
            "|   ne|1031.9233201581028|1028.2343873517787|1.0035876380441089|\n",
            "|   nc| 993.1101295290396| 999.4366382140512|0.9936699251927398|\n",
            "|   la| 941.3942336420675| 956.1682103376157|0.9845487681604352|\n",
            "|   il| 975.5852708738976| 991.5663726949948|0.9838829731814503|\n",
            "|   tn| 950.4035266821346| 968.9455220417633|0.9808637380143345|\n",
            "|   ia|  934.600589639197| 953.7755159342973| 0.979895765853963|\n",
            "|   nd| 986.5333932315065|1009.7247678945793|0.9770319839618967|\n",
            "|   ky| 903.2355509355509| 926.4449064449065|0.9749479377047708|\n",
            "|   ga| 951.0413995520198| 981.2578203444814|0.9692064407885649|\n",
            "|   wv|1072.0096021947875|1116.7050754458162|0.9599755797356028|\n",
            "|   ok| 872.6170565481673| 914.4310186037944|0.9542732461990724|\n",
            "|   oh| 891.0550586690736| 979.4159350127185|0.9097820719626156|\n",
            "|   in| 877.6562757710705| 984.0900544285007|0.8918454889585887|\n",
            "|   sd| 854.2016558249557| 977.6913069189828|0.8736925957916283|\n",
            "|   ks| 768.2467931587387| 883.9373329770176|0.8691190704338235|\n",
            "|   al| 886.4595538833647| 1041.475812953507|0.8511571203650579|\n",
            "|   ar| 865.9044312169312|1019.7096560846561|0.8491676292854915|\n",
            "|   ms| 790.8988413547237|1005.2413101604278|0.7867751089820444|\n",
            "|   mo| 763.4862568715643|1000.0814592703648|0.7634240689039324|\n",
            "+-----+------------------+------------------+------------------+\n",
            "\n"
          ]
        }
      ]
    },
    {
      "cell_type": "code",
      "metadata": {
        "colab": {
          "base_uri": "https://localhost:8080/"
        },
        "id": "dhoADJ3hg0eY",
        "outputId": "ece893e1-13d1-4d48-8dbc-9def905df699"
      },
      "source": [
        "print(\"Moyenne de prix par type de maison:\\n\")\n",
        "houses_cleaned.select('type', 'price').groupBy('type').agg(avg('price').alias('Avg price')).orderBy(desc('Avg price')).show()"
      ],
      "execution_count": null,
      "outputs": [
        {
          "output_type": "stream",
          "name": "stdout",
          "text": [
            "Moyenne de prix par type de maison:\n",
            "\n",
            "+---------------+------------------+\n",
            "|           type|         Avg price|\n",
            "+---------------+------------------+\n",
            "|          condo|1477.8672707889125|\n",
            "|           flat|          1380.445|\n",
            "|           loft|1336.5754716981132|\n",
            "|         in-law| 1309.909090909091|\n",
            "|          house|1269.2048676289728|\n",
            "|      townhouse|1261.2875937376662|\n",
            "|  cottage/cabin|           1229.75|\n",
            "|         duplex|1208.2517263025738|\n",
            "|      apartment| 1149.448234187819|\n",
            "|           land| 992.8571428571429|\n",
            "|   manufactured| 925.7414255091104|\n",
            "|assisted living|             700.0|\n",
            "+---------------+------------------+\n",
            "\n"
          ]
        }
      ]
    },
    {
      "cell_type": "code",
      "metadata": {
        "id": "nvd55cpo-XX3"
      },
      "source": [
        "#ds = houses_cleaned.select('*').limit(100)"
      ],
      "execution_count": null,
      "outputs": []
    },
    {
      "cell_type": "markdown",
      "metadata": {
        "id": "m0irKO5b5UPG"
      },
      "source": [
        "# Encodage et normalisation des données"
      ]
    },
    {
      "cell_type": "code",
      "metadata": {
        "id": "M3TjYIxI5ZBC"
      },
      "source": [
        "from pyspark.ml.feature import OneHotEncoder\n",
        "from pyspark.ml.feature import StringIndexer\n",
        "from pyspark.ml.feature import StandardScaler\n",
        "from pyspark.ml.linalg import Vectors\n",
        "from pyspark.ml.feature import VectorAssembler\n",
        "from pyspark.ml import Pipeline"
      ],
      "execution_count": 34,
      "outputs": []
    },
    {
      "cell_type": "code",
      "metadata": {
        "id": "yLxAqNyL9RDz"
      },
      "source": [
        "categorical_features = ['type','region','state','parking_options','laundry_options']\n",
        "prefix = 'indexed_'\n",
        "categorical_features_idx = list(map(lambda c:prefix+c, categorical_features))\n",
        "features_string_indexer = StringIndexer(inputCols=categorical_features, outputCols=categorical_features_idx, handleInvalid='keep')"
      ],
      "execution_count": 35,
      "outputs": []
    },
    {
      "cell_type": "code",
      "metadata": {
        "colab": {
          "base_uri": "https://localhost:8080/"
        },
        "id": "IZnTrEAd9XD9",
        "outputId": "976149a5-8573-4705-a0b9-0515fa4df5bd"
      },
      "source": [
        "ohe = OneHotEncoder()\n",
        "ohe.setInputCols(categorical_features_idx)\n",
        "prefix = 'oh_'\n",
        "categorical_features_oh = list(map(lambda c:prefix+c, categorical_features))\n",
        "ohe.setOutputCols(categorical_features_oh)"
      ],
      "execution_count": 36,
      "outputs": [
        {
          "output_type": "execute_result",
          "data": {
            "text/plain": [
              "OneHotEncoder_b47a2de81c50"
            ]
          },
          "metadata": {},
          "execution_count": 36
        }
      ]
    },
    {
      "cell_type": "code",
      "metadata": {
        "id": "0tU3lAyl95Hs"
      },
      "source": [
        "features_scale=['beds','baths','sqfeet']\n",
        "assembler = VectorAssembler(inputCols=features_scale,outputCol=\"featuresToScale\")\n",
        "scaler = StandardScaler(inputCol=\"featuresToScale\" , outputCol=\"features_scaled\",\n",
        "                        withStd=True, withMean=False)"
      ],
      "execution_count": 37,
      "outputs": []
    },
    {
      "cell_type": "code",
      "metadata": {
        "id": "8Q0hCpKP9Y2m"
      },
      "source": [
        "stages = [features_string_indexer, ohe, assembler, scaler]\n",
        "pipeline = Pipeline(stages = stages)\n",
        "data = pipeline.fit(houses_cleaned).transform(houses_cleaned)\n",
        "#data.show()"
      ],
      "execution_count": 38,
      "outputs": []
    },
    {
      "cell_type": "markdown",
      "metadata": {
        "id": "dnXdk_sABE8h"
      },
      "source": [
        "# Split train/test"
      ]
    },
    {
      "cell_type": "code",
      "metadata": {
        "id": "huWhrW7O_6ha"
      },
      "source": [
        "train_data, test_data = data.randomSplit([0.8, 0.2],100)\n",
        "train_data=train_data.orderBy(rand())\n",
        "test_data=test_data.orderBy(rand())"
      ],
      "execution_count": 39,
      "outputs": []
    },
    {
      "cell_type": "code",
      "metadata": {
        "id": "eKDNCRURAbRB"
      },
      "source": [
        "features_to_drop=['price', 'featuresToScale'] + categorical_features + categorical_features_idx + features_scale\n",
        "X_train, y_train = train_data, train_data.select('price')\n",
        "X_test, y_test = test_data, test_data.select('price')\n",
        "\n",
        "for i in features_to_drop :\n",
        "  X_train=X_train.drop(i)\n",
        "  X_test=X_test.drop(i)"
      ],
      "execution_count": 42,
      "outputs": []
    },
    {
      "cell_type": "code",
      "metadata": {
        "colab": {
          "base_uri": "https://localhost:8080/"
        },
        "id": "QPQE63MHAwwi",
        "outputId": "7692c9fc-a51c-4d6e-f393-2423073bf88a"
      },
      "source": [
        "X_train.columns"
      ],
      "execution_count": 43,
      "outputs": [
        {
          "output_type": "execute_result",
          "data": {
            "text/plain": [
              "['cats_allowed',\n",
              " 'dogs_allowed',\n",
              " 'smoking_allowed',\n",
              " 'wheelchair_access',\n",
              " 'electric_vehicle_charge',\n",
              " 'comes_furnished',\n",
              " 'oh_type',\n",
              " 'oh_region',\n",
              " 'oh_state',\n",
              " 'oh_parking_options',\n",
              " 'oh_laundry_options',\n",
              " 'features_scaled']"
            ]
          },
          "metadata": {},
          "execution_count": 43
        }
      ]
    },
    {
      "cell_type": "markdown",
      "metadata": {
        "id": "lWjnp_VKBIOb"
      },
      "source": [
        "#  Regression"
      ]
    },
    {
      "cell_type": "code",
      "metadata": {
        "id": "Ea8Vqg2cBL2D"
      },
      "source": [
        "from pyspark.ml.regression import DecisionTreeRegressor\n",
        "from pyspark.ml.evaluation import RegressionEvaluator\n",
        "from pyspark.ml.tuning import CrossValidator, ParamGridBuilder\n",
        "import matplotlib.pyplot as plt"
      ],
      "execution_count": 44,
      "outputs": []
    },
    {
      "cell_type": "code",
      "metadata": {
        "id": "oCU_4ZRGBM5o"
      },
      "source": [
        "assembler = VectorAssembler(inputCols=X_train.columns,outputCol=\"features\")\n",
        "train_data_transformed = assembler.transform(train_data)\n",
        "test_data_transformed = assembler.transform(test_data)"
      ],
      "execution_count": 45,
      "outputs": []
    },
    {
      "cell_type": "code",
      "metadata": {
        "colab": {
          "base_uri": "https://localhost:8080/"
        },
        "id": "SzupTWCOhpWg",
        "outputId": "b61541e8-1e75-486a-d49e-80632868be31"
      },
      "source": [
        "train_data_transformed.count()"
      ],
      "execution_count": null,
      "outputs": [
        {
          "output_type": "execute_result",
          "data": {
            "text/plain": [
              "302570"
            ]
          },
          "metadata": {},
          "execution_count": 98
        }
      ]
    },
    {
      "cell_type": "markdown",
      "metadata": {
        "id": "Nbj8b5KVkpaH"
      },
      "source": [
        "## Cross-Validaion using RMSE"
      ]
    },
    {
      "cell_type": "code",
      "metadata": {
        "id": "rZm_9gxxFwor"
      },
      "source": [
        "dt = DecisionTreeRegressor(featuresCol=\"features\", \n",
        "                           labelCol=\"price\",\n",
        "                           impurity='variance',\n",
        "                           maxDepth=20, \n",
        "                           maxBins=32,\n",
        "                           minInstancesPerNode=10\n",
        "                           )\n",
        "\n",
        "paramGrid = ParamGridBuilder()\\\n",
        "    .addGrid(dt.maxDepth, [5, 15, 30])\\\n",
        "    .addGrid(dt.maxBins, [403, 430, 470])\\\n",
        "    .addGrid(dt.minInstancesPerNode, [5, 10, 20])\\\n",
        "    .build()"
      ],
      "execution_count": null,
      "outputs": []
    },
    {
      "cell_type": "code",
      "metadata": {
        "id": "MIQadLfvhb2d"
      },
      "source": [
        "crossval = CrossValidator(estimator=dt,\n",
        "                          estimatorParamMaps=paramGrid,\n",
        "                          evaluator=RegressionEvaluator(labelCol=\"price\", predictionCol=\"prediction\", metricName=\"rmse\"),\n",
        "                          numFolds=3)  "
      ],
      "execution_count": null,
      "outputs": []
    },
    {
      "cell_type": "code",
      "metadata": {
        "id": "mVtDRadEhZCh"
      },
      "source": [
        "cvModel = crossval.fit(train_data_transformed)"
      ],
      "execution_count": null,
      "outputs": []
    },
    {
      "cell_type": "code",
      "metadata": {
        "id": "gqWM82TEicGK",
        "colab": {
          "base_uri": "https://localhost:8080/"
        },
        "outputId": "7c2ff4a2-6a62-48d2-b2f9-46acd65ec7a2"
      },
      "source": [
        "print(\"best MaxDepth is :\",cvModel.bestModel._java_obj.getMaxDepth())\n",
        "print(\"best maxBins is :\",cvModel.bestModel._java_obj.getMaxBins())\n",
        "print(\"best minInstancesPerNode is :\",cvModel.bestModel._java_obj.getMinInstancesPerNode())"
      ],
      "execution_count": null,
      "outputs": [
        {
          "output_type": "stream",
          "name": "stdout",
          "text": [
            "best MaxDepth is : 30\n",
            "best maxBins is : 430\n",
            "best minInstancesPerNode is : 5\n"
          ]
        }
      ]
    },
    {
      "cell_type": "markdown",
      "metadata": {
        "id": "rYWRXPMKR5mm"
      },
      "source": [
        "on fait un autre grid search en changeant les intervals"
      ]
    },
    {
      "cell_type": "code",
      "metadata": {
        "id": "_m5hMC1tR53i"
      },
      "source": [
        "paramGrid = ParamGridBuilder()\\\n",
        "    .addGrid(dt.maxDepth, [30])\\\n",
        "    .addGrid(dt.maxBins, [401, 410, 415,420,430])\\\n",
        "    .addGrid(dt.minInstancesPerNode, [1,3,5])\\\n",
        "    .build()"
      ],
      "execution_count": null,
      "outputs": []
    },
    {
      "cell_type": "code",
      "metadata": {
        "id": "om0B_xkdV5d7"
      },
      "source": [
        "crossval = CrossValidator(estimator=dt,\n",
        "                          estimatorParamMaps=paramGrid,\n",
        "                          evaluator=RegressionEvaluator(labelCol=\"price\", predictionCol=\"prediction\", metricName=\"rmse\"),\n",
        "                          numFolds=3)  "
      ],
      "execution_count": null,
      "outputs": []
    },
    {
      "cell_type": "code",
      "metadata": {
        "id": "teE9D_-NVyaA"
      },
      "source": [
        "cvModel = crossval.fit(train_data_transformed)"
      ],
      "execution_count": null,
      "outputs": []
    },
    {
      "cell_type": "code",
      "metadata": {
        "colab": {
          "base_uri": "https://localhost:8080/"
        },
        "id": "HIn0xUbsXf9a",
        "outputId": "07ba5d2a-1350-4f52-e344-78ebfe25fb74"
      },
      "source": [
        "print(\"best MaxDepth is :\",cvModel.bestModel._java_obj.getMaxDepth())\n",
        "print(\"best maxBins is :\",cvModel.bestModel._java_obj.getMaxBins())\n",
        "print(\"best minInstancesPerNode is :\",cvModel.bestModel._java_obj.getMinInstancesPerNode())"
      ],
      "execution_count": null,
      "outputs": [
        {
          "output_type": "stream",
          "name": "stdout",
          "text": [
            "best MaxDepth is : 30\n",
            "best maxBins is : 401\n",
            "best minInstancesPerNode is : 5\n"
          ]
        }
      ]
    },
    {
      "cell_type": "code",
      "metadata": {
        "id": "sKECnUw2bCaO"
      },
      "source": [
        "paramGrid = ParamGridBuilder()\\\n",
        "    .addGrid(dt.maxDepth, [30])\\\n",
        "    .addGrid(dt.maxBins, [350,390,401,404])\\\n",
        "    .addGrid(dt.minInstancesPerNode, [5])\\\n",
        "    .build()"
      ],
      "execution_count": null,
      "outputs": []
    },
    {
      "cell_type": "code",
      "metadata": {
        "id": "ZRw4tMwEbEwz"
      },
      "source": [
        "crossval = CrossValidator(estimator=dt,\n",
        "                          estimatorParamMaps=paramGrid,\n",
        "                          evaluator=RegressionEvaluator(labelCol=\"price\", predictionCol=\"prediction\", metricName=\"rmse\"),\n",
        "                          numFolds=3)  "
      ],
      "execution_count": null,
      "outputs": []
    },
    {
      "cell_type": "code",
      "metadata": {
        "id": "YPzcn_y0bHYA"
      },
      "source": [
        "cvModel = crossval.fit(train_data_transformed)"
      ],
      "execution_count": null,
      "outputs": []
    },
    {
      "cell_type": "code",
      "metadata": {
        "colab": {
          "base_uri": "https://localhost:8080/"
        },
        "id": "PWO7V-9MbIhy",
        "outputId": "e98312ab-3d06-4132-f43d-d130f2912042"
      },
      "source": [
        "print(\"best MaxDepth is :\",cvModel.bestModel._java_obj.getMaxDepth())\n",
        "print(\"best maxBins is :\",cvModel.bestModel._java_obj.getMaxBins())\n",
        "print(\"best minInstancesPerNode is :\",cvModel.bestModel._java_obj.getMinInstancesPerNode())"
      ],
      "execution_count": null,
      "outputs": [
        {
          "output_type": "stream",
          "name": "stdout",
          "text": [
            "best MaxDepth is : 30\n",
            "best maxBins is : 401\n",
            "best minInstancesPerNode is : 5\n"
          ]
        }
      ]
    },
    {
      "cell_type": "markdown",
      "metadata": {
        "id": "0CFAUgoPzAh1"
      },
      "source": [
        "Les meilleurs parametres trouvé en utilisant grid search pour une fonction de loss RMSE sont les suivant :\n",
        "\n",
        "\n",
        "*   MaxDepth = 30\n",
        "*   MaxBins = 401\n",
        "*   minInsrancesPerNode = 5\n",
        "\n"
      ]
    },
    {
      "cell_type": "markdown",
      "metadata": {
        "id": "lVAVrf3tkPhr"
      },
      "source": [
        "## Fitting model with best params using RMSE\n",
        "\n",
        "aprés avoir trouvé les meilleurs paramatere en utlisant grid search, on va entrainer maintenant l'ensemble de l'entrainement encore une fois avec ces parametres."
      ]
    },
    {
      "cell_type": "code",
      "metadata": {
        "id": "kaMAmVSVjlyS"
      },
      "source": [
        "dt = DecisionTreeRegressor(featuresCol=\"features\", \n",
        "                           labelCol=\"price\",\n",
        "                           impurity='variance',\n",
        "                           maxDepth=30, \n",
        "                           maxBins=401,\n",
        "                           minInstancesPerNode=5\n",
        "                           )\n",
        "model_rmse = dt.fit(train_data_transformed)"
      ],
      "execution_count": 46,
      "outputs": []
    },
    {
      "cell_type": "code",
      "metadata": {
        "id": "83KYBpo8js9h"
      },
      "source": [
        "predictions = model_rmse.transform(test_data_transformed)"
      ],
      "execution_count": 47,
      "outputs": []
    },
    {
      "cell_type": "code",
      "metadata": {
        "id": "zgQ9Li3NjxOU"
      },
      "source": [
        "predictions_train = model_rmse.transform(train_data_transformed)"
      ],
      "execution_count": 48,
      "outputs": []
    },
    {
      "cell_type": "code",
      "metadata": {
        "colab": {
          "base_uri": "https://localhost:8080/"
        },
        "id": "YF6GORWsj3YO",
        "outputId": "581a6fb2-5f05-4d67-a4d5-258ceba81b8b"
      },
      "source": [
        "evaluator = RegressionEvaluator(\n",
        "    labelCol=\"price\", predictionCol=\"prediction\", metricName=\"rmse\")\n",
        "rmse = evaluator.evaluate(predictions)\n",
        "print(\"Root Mean Squared Error (RMSE) on test data = %g\" % rmse)"
      ],
      "execution_count": 49,
      "outputs": [
        {
          "output_type": "stream",
          "name": "stdout",
          "text": [
            "Root Mean Squared Error (RMSE) on test data = 274.43\n"
          ]
        }
      ]
    },
    {
      "cell_type": "markdown",
      "metadata": {
        "id": "KvMBTzoHztcz"
      },
      "source": [
        "aprés avoir entrainer le model, on l'a testé sur l'ensemble de test et on a obtenue un score de 274.43"
      ]
    },
    {
      "cell_type": "code",
      "metadata": {
        "id": "Q8BMHc_wkAnV",
        "colab": {
          "base_uri": "https://localhost:8080/"
        },
        "outputId": "9151bcf2-8ea8-42be-9303-cdde928b05c6"
      },
      "source": [
        "rmse_train = evaluator.evaluate(predictions_train)\n",
        "print(\"Root Mean Squared Error (RMSE) on train data = %g\" % rmse_train)"
      ],
      "execution_count": 50,
      "outputs": [
        {
          "output_type": "stream",
          "name": "stdout",
          "text": [
            "Root Mean Squared Error (RMSE) on train data = 247.142\n"
          ]
        }
      ]
    },
    {
      "cell_type": "markdown",
      "metadata": {
        "id": "lZY_ebG_V4Bv"
      },
      "source": [
        "## Evolution du vecteur d’importance des features RMSE"
      ]
    },
    {
      "cell_type": "code",
      "metadata": {
        "colab": {
          "base_uri": "https://localhost:8080/",
          "height": 283
        },
        "id": "Y6VSidn0VoUp",
        "outputId": "f917882c-5be7-4c29-a972-8a801777a65d"
      },
      "source": [
        "plt.plot(model_rmse.featureImportances)\n"
      ],
      "execution_count": null,
      "outputs": [
        {
          "output_type": "execute_result",
          "data": {
            "text/plain": [
              "[<matplotlib.lines.Line2D at 0x7fe7600a32d0>]"
            ]
          },
          "metadata": {},
          "execution_count": 90
        },
        {
          "output_type": "display_data",
          "data": {
            "image/png": "[encoded data removed]",
            "text/plain": [
              "<Figure size 432x288 with 1 Axes>"
            ]
          },
          "metadata": {
            "needs_background": "light"
          }
        }
      ]
    },
    {
      "cell_type": "markdown",
      "metadata": {
        "id": "lCdw5Vsernr6"
      },
      "source": [
        "## Cross-validation using MAE"
      ]
    },
    {
      "cell_type": "code",
      "metadata": {
        "id": "UcH-4savrzbX"
      },
      "source": [
        "dt = DecisionTreeRegressor(featuresCol=\"features\", \n",
        "                           labelCol=\"price\",\n",
        "                           impurity='variance',\n",
        "                           maxDepth=20, \n",
        "                           maxBins=32,\n",
        "                           minInstancesPerNode=10\n",
        "                           )\n",
        "\n",
        "paramGrid = ParamGridBuilder()\\\n",
        "    .addGrid(dt.maxDepth, [5, 15, 30])\\\n",
        "    .addGrid(dt.maxBins, [403, 430, 470])\\\n",
        "    .addGrid(dt.minInstancesPerNode, [5, 10, 20])\\\n",
        "    .build()"
      ],
      "execution_count": null,
      "outputs": []
    },
    {
      "cell_type": "code",
      "metadata": {
        "id": "CHGSlk560aIK"
      },
      "source": [
        "crossval = CrossValidator(estimator=dt,\n",
        "                          estimatorParamMaps=paramGrid,\n",
        "                          evaluator=RegressionEvaluator(labelCol=\"price\", predictionCol=\"prediction\", metricName=\"mae\"),\n",
        "                          numFolds=3)  "
      ],
      "execution_count": null,
      "outputs": []
    },
    {
      "cell_type": "code",
      "metadata": {
        "id": "aGezbksa0hkJ"
      },
      "source": [
        "cvModel = crossval.fit(train_data_transformed)"
      ],
      "execution_count": null,
      "outputs": []
    },
    {
      "cell_type": "code",
      "metadata": {
        "id": "1k23upDW0kiG",
        "colab": {
          "base_uri": "https://localhost:8080/"
        },
        "outputId": "ae0d2d6a-c55c-42b1-a78b-2be9116edc54"
      },
      "source": [
        "print(\"best MaxDepth is :\",cvModel.bestModel._java_obj.getMaxDepth())\n",
        "print(\"best maxBins is :\",cvModel.bestModel._java_obj.getMaxBins())\n",
        "print(\"best minInstancesPerNode is :\",cvModel.bestModel._java_obj.getMinInstancesPerNode())"
      ],
      "execution_count": null,
      "outputs": [
        {
          "output_type": "stream",
          "name": "stdout",
          "text": [
            "best MaxDepth is : 30\n",
            "best maxBins is : 430\n",
            "best minInstancesPerNode is : 5\n"
          ]
        }
      ]
    },
    {
      "cell_type": "code",
      "metadata": {
        "id": "WsD-mmqt0xcP"
      },
      "source": [
        "paramGrid = ParamGridBuilder()\\\n",
        "    .addGrid(dt.maxDepth, [30])\\\n",
        "    .addGrid(dt.maxBins, [401, 410, 415,420,430])\\\n",
        "    .addGrid(dt.minInstancesPerNode, [1,3,5])\\\n",
        "    .build()"
      ],
      "execution_count": null,
      "outputs": []
    },
    {
      "cell_type": "code",
      "metadata": {
        "id": "FHe_47oy0yUG"
      },
      "source": [
        "crossval = CrossValidator(estimator=dt,\n",
        "                          estimatorParamMaps=paramGrid,\n",
        "                          evaluator=RegressionEvaluator(labelCol=\"price\", predictionCol=\"prediction\", metricName=\"mae\"),\n",
        "                          numFolds=3)  "
      ],
      "execution_count": null,
      "outputs": []
    },
    {
      "cell_type": "code",
      "metadata": {
        "id": "Q_y6oAjL01p8"
      },
      "source": [
        "cvModel = crossval.fit(train_data_transformed)"
      ],
      "execution_count": null,
      "outputs": []
    },
    {
      "cell_type": "code",
      "metadata": {
        "id": "D1Z2NOPz01y4",
        "colab": {
          "base_uri": "https://localhost:8080/"
        },
        "outputId": "98ef38e0-e05c-4075-f69d-89f01b149680"
      },
      "source": [
        "print(\"best MaxDepth is :\",cvModel.bestModel._java_obj.getMaxDepth())\n",
        "print(\"best maxBins is :\",cvModel.bestModel._java_obj.getMaxBins())\n",
        "print(\"best minInstancesPerNode is :\",cvModel.bestModel._java_obj.getMinInstancesPerNode())"
      ],
      "execution_count": null,
      "outputs": [
        {
          "output_type": "stream",
          "name": "stdout",
          "text": [
            "best MaxDepth is : 30\n",
            "best maxBins is : 420\n",
            "best minInstancesPerNode is : 1\n"
          ]
        }
      ]
    },
    {
      "cell_type": "code",
      "metadata": {
        "id": "itLVPCor02N_"
      },
      "source": [
        "paramGrid = ParamGridBuilder()\\\n",
        "    .addGrid(dt.maxDepth, [30])\\\n",
        "    .addGrid(dt.maxBins, [420,423,426,430])\\\n",
        "    .addGrid(dt.minInstancesPerNode, [1])\\\n",
        "    .build()"
      ],
      "execution_count": null,
      "outputs": []
    },
    {
      "cell_type": "code",
      "metadata": {
        "id": "YxryaC2F1ARO"
      },
      "source": [
        "crossval = CrossValidator(estimator=dt,\n",
        "                          estimatorParamMaps=paramGrid,\n",
        "                          evaluator=RegressionEvaluator(labelCol=\"price\", predictionCol=\"prediction\", metricName=\"mae\"),\n",
        "                          numFolds=3)  "
      ],
      "execution_count": null,
      "outputs": []
    },
    {
      "cell_type": "code",
      "metadata": {
        "id": "b9qAtsW-1Fgv"
      },
      "source": [
        "cvModel = crossval.fit(train_data_transformed)"
      ],
      "execution_count": null,
      "outputs": []
    },
    {
      "cell_type": "code",
      "metadata": {
        "id": "z4edr3Ll1GdB",
        "colab": {
          "base_uri": "https://localhost:8080/"
        },
        "outputId": "bdfb623f-952b-4223-a47e-4475fa469ef6"
      },
      "source": [
        "print(\"best MaxDepth is :\",cvModel.bestModel._java_obj.getMaxDepth())\n",
        "print(\"best maxBins is :\",cvModel.bestModel._java_obj.getMaxBins())\n",
        "print(\"best minInstancesPerNode is :\",cvModel.bestModel._java_obj.getMinInstancesPerNode())"
      ],
      "execution_count": null,
      "outputs": [
        {
          "output_type": "stream",
          "name": "stdout",
          "text": [
            "best MaxDepth is : 30\n",
            "best maxBins is : 420\n",
            "best minInstancesPerNode is : 1\n"
          ]
        }
      ]
    },
    {
      "cell_type": "markdown",
      "metadata": {
        "id": "p6AdCDhWPIep"
      },
      "source": [
        "Les meilleurs parametres trouvé en utilisant grid search pour une fonction de loss RMSE sont les suivant :\n",
        "\n",
        "\n",
        "*   MaxDepth = 30\n",
        "*   MaxBins = 420\n",
        "*   minInsrancesPerNode = 1\n"
      ]
    },
    {
      "cell_type": "markdown",
      "metadata": {
        "id": "Cpv8soUj1X3a"
      },
      "source": [
        "## Fitting model with best params using MAE\n",
        "\n",
        "aprés avoir trouvé les meilleurs paramatere en utlisant grid search sur l'ensemble de validation, on va entrainer maintenant l'ensemble de l'entrainement encore une fois avec ces parametres."
      ]
    },
    {
      "cell_type": "code",
      "metadata": {
        "id": "K6F4x52g1e24"
      },
      "source": [
        "dt = DecisionTreeRegressor(featuresCol=\"features\", \n",
        "                           labelCol=\"price\",\n",
        "                           impurity='variance',\n",
        "                           maxDepth=30, \n",
        "                           maxBins=420,\n",
        "                           minInstancesPerNode=1\n",
        "                           )\n",
        "model = dt.fit(train_data_transformed)"
      ],
      "execution_count": null,
      "outputs": []
    },
    {
      "cell_type": "code",
      "metadata": {
        "id": "XzsBhgUJ1hgA"
      },
      "source": [
        "predictions = model.transform(test_data_transformed)"
      ],
      "execution_count": null,
      "outputs": []
    },
    {
      "cell_type": "code",
      "metadata": {
        "id": "zCP_o6Ur1lwM"
      },
      "source": [
        "predictions_train = model.transform(train_data_transformed)"
      ],
      "execution_count": null,
      "outputs": []
    },
    {
      "cell_type": "code",
      "metadata": {
        "id": "jzOv8xqV1oE_",
        "colab": {
          "base_uri": "https://localhost:8080/"
        },
        "outputId": "72b952a4-1cac-4be1-86cc-a80a76bef14a"
      },
      "source": [
        "evaluator = RegressionEvaluator(\n",
        "    labelCol=\"price\", predictionCol=\"prediction\", metricName=\"mae\")\n",
        "mae = evaluator.evaluate(predictions)\n",
        "print(\"Mean absolute error (MAE) on test data = %g\" % mae)"
      ],
      "execution_count": null,
      "outputs": [
        {
          "output_type": "stream",
          "name": "stdout",
          "text": [
            "Mean absolute error (MAE) on test data = 162.431\n"
          ]
        }
      ]
    },
    {
      "cell_type": "markdown",
      "metadata": {
        "id": "4UZMZ26jPcDP"
      },
      "source": [
        "aprés avoir entrainer le model, on l'a testé sur l'ensemble de test et on a obtenue un score de 162.431\n",
        "\n",
        "\n",
        "\n"
      ]
    },
    {
      "cell_type": "markdown",
      "metadata": {
        "id": "db7v1nI0VsmH"
      },
      "source": [
        "## Evolution du vecteur d’importance des features MAE"
      ]
    },
    {
      "cell_type": "code",
      "metadata": {
        "colab": {
          "base_uri": "https://localhost:8080/",
          "height": 283
        },
        "id": "lpq5usF2TSQl",
        "outputId": "2545d34c-4b7c-4a75-eb43-daf370183506"
      },
      "source": [
        "plt.plot(model.featureImportances)\n"
      ],
      "execution_count": null,
      "outputs": [
        {
          "output_type": "execute_result",
          "data": {
            "text/plain": [
              "[<matplotlib.lines.Line2D at 0x7fe7600bf9d0>]"
            ]
          },
          "metadata": {},
          "execution_count": 92
        },
        {
          "output_type": "display_data",
          "data": {
            "image/png": "[encoded data removed]",
            "text/plain": [
              "<Figure size 432x288 with 1 Axes>"
            ]
          },
          "metadata": {
            "needs_background": "light"
          }
        }
      ]
    },
    {
      "cell_type": "markdown",
      "metadata": {
        "id": "2NdIgJ9VPk_K"
      },
      "source": [
        "## Analyse comparative\n",
        "\n",
        "* dans les deux cas, pour chaque changement des intervals \n",
        "d'hyperparametre, on réussi à diminuer le loss, et cela est du à bien choisir les intrervales qui s'approches des paramateres optimaux\n",
        "\n",
        "* on remarque que les parametres optimals changent en changeant la metric, et cela parait evident, car en changeant l'objectif de notre arbre (dans notre cas la fonction de loss) le comportement de l'arbre change, et donc il lui faut des hyperparametres differents.\n",
        "\n",
        "* la deuxieme chose qu'on peut remarquer c'est qu'on a obtenu des meilleurs résultats avec la fonction de loss MAE, et donc on peut conclure que c'est la fonction de loss la mieux adapté pour traiter notre tâche de regression.\n",
        "\n",
        "* concernant les vecteurs d'importance de features, on remarque qu'ils sont quasiment identitiques, et donc en changeant la fonction de loss n'efffecte pas beaucoup l'importance des features."
      ]
    },
    {
      "cell_type": "code",
      "metadata": {
        "id": "LnAa2zAZTSXe"
      },
      "source": [
        ""
      ],
      "execution_count": null,
      "outputs": []
    }
  ]
}